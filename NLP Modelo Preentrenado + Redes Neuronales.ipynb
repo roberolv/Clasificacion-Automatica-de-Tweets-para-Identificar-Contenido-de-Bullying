{
  "cells": [
    {
      "cell_type": "code",
      "execution_count": null,
      "metadata": {
        "id": "wG7EP2fFgoTn"
      },
      "outputs": [],
      "source": [
        "# En caso de problemas, utilizar las dependencias de librerías de este requierement: https://github.com/googlecolab/backend-info/blob/d6d345cb94fc5fd49951c9af0f6ead5e962bfab2/pip-freeze.txt\n",
        "!pip install numpy==1.23.5\n",
        "!pip install transformers[torch]==4.35.2\n",
        "!pip install accelerate -U\n",
        "!pip install evaluate"
      ]
    },
    {
      "cell_type": "code",
      "execution_count": null,
      "metadata": {
        "id": "pOub-BB9KWh5"
      },
      "outputs": [],
      "source": [
        "import pandas as pd\n",
        "def load_prepare_data(path):\n",
        "  \"\"\"\n",
        "  Función para cargar y procesar datos para el ejercicio.\n",
        "  \"\"\"\n",
        "  df = pd.read_csv(path,sep=\",\")\n",
        "  map_classes = {\n",
        "    \"religion\":1,\n",
        "    \"age\":1,\n",
        "    \"ethnicity\":1,\n",
        "    \"gender\":1,\n",
        "    \"other_cyberbullying\":1,\n",
        "    \"not_cyberbullying\":0,\n",
        "  }\n",
        "  df[\"cyberbullying\"] = df.cyberbullying_type.map(map_classes)\n",
        "  return df[[\"tweet_text\",\"cyberbullying\"]].copy()"
      ]
    },
    {
      "cell_type": "markdown",
      "metadata": {
        "id": "OeczIz9uKyBV"
      },
      "source": [
        "# Ejercicio\n"
      ]
    },
    {
      "cell_type": "markdown",
      "metadata": {
        "id": "I9EFBbmM5w90"
      },
      "source": [
        "En este ejercicio vamos a trabajar con un conjunto de datos procedente de medios sociales online.\n",
        "\n",
        "Uno de los mayores problemas en el internet de hoy en día es la presencia de actitudes negativas hacia algunos colectivos en relación a su etnia, género, religión o ideología política. En este ejercicio trabajaremos con un conjunto de datos reales, etiquetados manualmente, procedentes de la plataforma [Kaggle](https://www.kaggle.com/datasets/andrewmvd/cyberbullying-classification/data). Originalmente, a cada documento del dataset se le asignó una de las siguientes categorías:\n",
        "- *religion*\n",
        "- *age*\n",
        "- *ethnicity*\n",
        "- *gender*\n",
        "- *other_cyberbullying*\n",
        "- *not_cyberbullying*\n",
        "\n",
        "\n",
        "El objetivo inicial del dataset era su uso para entrenar un modelo capaz de detectar el tipo de contenido de odio presente en internet según el colectivo al que se atacaba. En este caso, para simplificar el ejercicio, se ha generado una función `load_prepare_data()` que cambia las categorías del dataset obteníendose al final 2 categorías con valor 1 o 0, indicando si el tweet tiene contenido de odio"
      ]
    },
    {
      "cell_type": "markdown",
      "metadata": {
        "id": "8c1vV6Aogbxu"
      },
      "source": [
        "**En este ejercicio debeis entrenar un modelo de clasificación utilizando la librería Transformers.** Dado que el análisis exploratorio ha sido realizado en el ejercicio anterior, en este caso podréis centraros en entrenar el modelo utilizando la librería Transformers, seleccionando un modelo pre-entrenado adecuado, entrenando el modelo y llevando a cabo la evaluación.\n",
        "\n",
        "\n",
        "**Nota 1**: Este ejercicio requiere el uso de las GPUs de Google Colab. Este Colab debería estar preconfigurado para ejecutarse en GPU, pero si tuviera problemas en la ejecución que me contacte a través del Moodle para buscar soluciones alternativas."
      ]
    },
    {
      "cell_type": "markdown",
      "metadata": {
        "id": "u5dR3XnT7Wl1"
      },
      "source": [
        "## 0. Imports\n"
      ]
    },
    {
      "cell_type": "code",
      "execution_count": null,
      "metadata": {
        "colab": {
          "base_uri": "https://localhost:8080/"
        },
        "id": "fVOCm6Kw7WCW",
        "outputId": "515802cc-01eb-480b-e8b1-f37b443efc01"
      },
      "outputs": [
        {
          "output_type": "stream",
          "name": "stderr",
          "text": [
            "/usr/local/lib/python3.10/dist-packages/transformers/utils/generic.py:441: UserWarning: torch.utils._pytree._register_pytree_node is deprecated. Please use torch.utils._pytree.register_pytree_node instead.\n",
            "  _torch_pytree._register_pytree_node(\n"
          ]
        }
      ],
      "source": [
        "from transformers import (\n",
        "   AutoConfig,\n",
        "   AutoTokenizer,\n",
        "   AutoModelForSequenceClassification,\n",
        "   AdamW\n",
        ")\n",
        "import torch\n",
        "import pandas as pd\n",
        "from sklearn.model_selection import train_test_split"
      ]
    },
    {
      "cell_type": "markdown",
      "metadata": {
        "id": "WbiU7iHSKd-9"
      },
      "source": [
        "## 1. Obtención del corpus\n",
        "Para la obtención de los datos teneis disponible la función `load_prepare_data()`. Esta función prepara los datos del ejercicio en formato Pandas dataframe para que podais realizarlo."
      ]
    },
    {
      "cell_type": "code",
      "execution_count": null,
      "metadata": {
        "id": "4kMXGAUdgvKo"
      },
      "outputs": [],
      "source": [
        "path_data = \"https://raw.githubusercontent.com/luisgasco/ntic_master_datos/main/datasets/cyberbullying_tweets.csv\"\n",
        "# Path de datos alternativos en caso de que el anterior no funcione (al estar alojado en github puede haber limitaciones\n",
        "# en la descarga.\n",
        "# path_data = \"https://zenodo.org/records/10938455/files/cyberbullying_tweets.csv?download=1\"\n",
        "dataset = load_prepare_data(path_data)"
      ]
    },
    {
      "cell_type": "code",
      "execution_count": null,
      "metadata": {
        "colab": {
          "base_uri": "https://localhost:8080/",
          "height": 175
        },
        "id": "6dXS2-2JgvKo",
        "outputId": "aae1fcca-2243-4c50-fd9b-25da41c09f5e"
      },
      "outputs": [
        {
          "output_type": "execute_result",
          "data": {
            "text/plain": [
              "                                          tweet_text  cyberbullying\n",
              "0  In other words #katandandre, your food was cra...              0\n",
              "1  Why is #aussietv so white? #MKR #theblock #ImA...              0\n",
              "2  @XochitlSuckkks a classy whore? Or more red ve...              0\n",
              "3  @Jason_Gio meh. :P  thanks for the heads up, b...              0"
            ],
            "text/html": [
              "\n",
              "  <div id=\"df-20783f93-3a59-4fa4-a4a6-5035e85aa128\" class=\"colab-df-container\">\n",
              "    <div>\n",
              "<style scoped>\n",
              "    .dataframe tbody tr th:only-of-type {\n",
              "        vertical-align: middle;\n",
              "    }\n",
              "\n",
              "    .dataframe tbody tr th {\n",
              "        vertical-align: top;\n",
              "    }\n",
              "\n",
              "    .dataframe thead th {\n",
              "        text-align: right;\n",
              "    }\n",
              "</style>\n",
              "<table border=\"1\" class=\"dataframe\">\n",
              "  <thead>\n",
              "    <tr style=\"text-align: right;\">\n",
              "      <th></th>\n",
              "      <th>tweet_text</th>\n",
              "      <th>cyberbullying</th>\n",
              "    </tr>\n",
              "  </thead>\n",
              "  <tbody>\n",
              "    <tr>\n",
              "      <th>0</th>\n",
              "      <td>In other words #katandandre, your food was cra...</td>\n",
              "      <td>0</td>\n",
              "    </tr>\n",
              "    <tr>\n",
              "      <th>1</th>\n",
              "      <td>Why is #aussietv so white? #MKR #theblock #ImA...</td>\n",
              "      <td>0</td>\n",
              "    </tr>\n",
              "    <tr>\n",
              "      <th>2</th>\n",
              "      <td>@XochitlSuckkks a classy whore? Or more red ve...</td>\n",
              "      <td>0</td>\n",
              "    </tr>\n",
              "    <tr>\n",
              "      <th>3</th>\n",
              "      <td>@Jason_Gio meh. :P  thanks for the heads up, b...</td>\n",
              "      <td>0</td>\n",
              "    </tr>\n",
              "  </tbody>\n",
              "</table>\n",
              "</div>\n",
              "    <div class=\"colab-df-buttons\">\n",
              "\n",
              "  <div class=\"colab-df-container\">\n",
              "    <button class=\"colab-df-convert\" onclick=\"convertToInteractive('df-20783f93-3a59-4fa4-a4a6-5035e85aa128')\"\n",
              "            title=\"Convert this dataframe to an interactive table.\"\n",
              "            style=\"display:none;\">\n",
              "\n",
              "  <svg xmlns=\"http://www.w3.org/2000/svg\" height=\"24px\" viewBox=\"0 -960 960 960\">\n",
              "    <path d=\"M120-120v-720h720v720H120Zm60-500h600v-160H180v160Zm220 220h160v-160H400v160Zm0 220h160v-160H400v160ZM180-400h160v-160H180v160Zm440 0h160v-160H620v160ZM180-180h160v-160H180v160Zm440 0h160v-160H620v160Z\"/>\n",
              "  </svg>\n",
              "    </button>\n",
              "\n",
              "  <style>\n",
              "    .colab-df-container {\n",
              "      display:flex;\n",
              "      gap: 12px;\n",
              "    }\n",
              "\n",
              "    .colab-df-convert {\n",
              "      background-color: #E8F0FE;\n",
              "      border: none;\n",
              "      border-radius: 50%;\n",
              "      cursor: pointer;\n",
              "      display: none;\n",
              "      fill: #1967D2;\n",
              "      height: 32px;\n",
              "      padding: 0 0 0 0;\n",
              "      width: 32px;\n",
              "    }\n",
              "\n",
              "    .colab-df-convert:hover {\n",
              "      background-color: #E2EBFA;\n",
              "      box-shadow: 0px 1px 2px rgba(60, 64, 67, 0.3), 0px 1px 3px 1px rgba(60, 64, 67, 0.15);\n",
              "      fill: #174EA6;\n",
              "    }\n",
              "\n",
              "    .colab-df-buttons div {\n",
              "      margin-bottom: 4px;\n",
              "    }\n",
              "\n",
              "    [theme=dark] .colab-df-convert {\n",
              "      background-color: #3B4455;\n",
              "      fill: #D2E3FC;\n",
              "    }\n",
              "\n",
              "    [theme=dark] .colab-df-convert:hover {\n",
              "      background-color: #434B5C;\n",
              "      box-shadow: 0px 1px 3px 1px rgba(0, 0, 0, 0.15);\n",
              "      filter: drop-shadow(0px 1px 2px rgba(0, 0, 0, 0.3));\n",
              "      fill: #FFFFFF;\n",
              "    }\n",
              "  </style>\n",
              "\n",
              "    <script>\n",
              "      const buttonEl =\n",
              "        document.querySelector('#df-20783f93-3a59-4fa4-a4a6-5035e85aa128 button.colab-df-convert');\n",
              "      buttonEl.style.display =\n",
              "        google.colab.kernel.accessAllowed ? 'block' : 'none';\n",
              "\n",
              "      async function convertToInteractive(key) {\n",
              "        const element = document.querySelector('#df-20783f93-3a59-4fa4-a4a6-5035e85aa128');\n",
              "        const dataTable =\n",
              "          await google.colab.kernel.invokeFunction('convertToInteractive',\n",
              "                                                    [key], {});\n",
              "        if (!dataTable) return;\n",
              "\n",
              "        const docLinkHtml = 'Like what you see? Visit the ' +\n",
              "          '<a target=\"_blank\" href=https://colab.research.google.com/notebooks/data_table.ipynb>data table notebook</a>'\n",
              "          + ' to learn more about interactive tables.';\n",
              "        element.innerHTML = '';\n",
              "        dataTable['output_type'] = 'display_data';\n",
              "        await google.colab.output.renderOutput(dataTable, element);\n",
              "        const docLink = document.createElement('div');\n",
              "        docLink.innerHTML = docLinkHtml;\n",
              "        element.appendChild(docLink);\n",
              "      }\n",
              "    </script>\n",
              "  </div>\n",
              "\n",
              "\n",
              "<div id=\"df-298e96fc-9a0e-4902-ae27-0b48dd3eb8e1\">\n",
              "  <button class=\"colab-df-quickchart\" onclick=\"quickchart('df-298e96fc-9a0e-4902-ae27-0b48dd3eb8e1')\"\n",
              "            title=\"Suggest charts\"\n",
              "            style=\"display:none;\">\n",
              "\n",
              "<svg xmlns=\"http://www.w3.org/2000/svg\" height=\"24px\"viewBox=\"0 0 24 24\"\n",
              "     width=\"24px\">\n",
              "    <g>\n",
              "        <path d=\"M19 3H5c-1.1 0-2 .9-2 2v14c0 1.1.9 2 2 2h14c1.1 0 2-.9 2-2V5c0-1.1-.9-2-2-2zM9 17H7v-7h2v7zm4 0h-2V7h2v10zm4 0h-2v-4h2v4z\"/>\n",
              "    </g>\n",
              "</svg>\n",
              "  </button>\n",
              "\n",
              "<style>\n",
              "  .colab-df-quickchart {\n",
              "      --bg-color: #E8F0FE;\n",
              "      --fill-color: #1967D2;\n",
              "      --hover-bg-color: #E2EBFA;\n",
              "      --hover-fill-color: #174EA6;\n",
              "      --disabled-fill-color: #AAA;\n",
              "      --disabled-bg-color: #DDD;\n",
              "  }\n",
              "\n",
              "  [theme=dark] .colab-df-quickchart {\n",
              "      --bg-color: #3B4455;\n",
              "      --fill-color: #D2E3FC;\n",
              "      --hover-bg-color: #434B5C;\n",
              "      --hover-fill-color: #FFFFFF;\n",
              "      --disabled-bg-color: #3B4455;\n",
              "      --disabled-fill-color: #666;\n",
              "  }\n",
              "\n",
              "  .colab-df-quickchart {\n",
              "    background-color: var(--bg-color);\n",
              "    border: none;\n",
              "    border-radius: 50%;\n",
              "    cursor: pointer;\n",
              "    display: none;\n",
              "    fill: var(--fill-color);\n",
              "    height: 32px;\n",
              "    padding: 0;\n",
              "    width: 32px;\n",
              "  }\n",
              "\n",
              "  .colab-df-quickchart:hover {\n",
              "    background-color: var(--hover-bg-color);\n",
              "    box-shadow: 0 1px 2px rgba(60, 64, 67, 0.3), 0 1px 3px 1px rgba(60, 64, 67, 0.15);\n",
              "    fill: var(--button-hover-fill-color);\n",
              "  }\n",
              "\n",
              "  .colab-df-quickchart-complete:disabled,\n",
              "  .colab-df-quickchart-complete:disabled:hover {\n",
              "    background-color: var(--disabled-bg-color);\n",
              "    fill: var(--disabled-fill-color);\n",
              "    box-shadow: none;\n",
              "  }\n",
              "\n",
              "  .colab-df-spinner {\n",
              "    border: 2px solid var(--fill-color);\n",
              "    border-color: transparent;\n",
              "    border-bottom-color: var(--fill-color);\n",
              "    animation:\n",
              "      spin 1s steps(1) infinite;\n",
              "  }\n",
              "\n",
              "  @keyframes spin {\n",
              "    0% {\n",
              "      border-color: transparent;\n",
              "      border-bottom-color: var(--fill-color);\n",
              "      border-left-color: var(--fill-color);\n",
              "    }\n",
              "    20% {\n",
              "      border-color: transparent;\n",
              "      border-left-color: var(--fill-color);\n",
              "      border-top-color: var(--fill-color);\n",
              "    }\n",
              "    30% {\n",
              "      border-color: transparent;\n",
              "      border-left-color: var(--fill-color);\n",
              "      border-top-color: var(--fill-color);\n",
              "      border-right-color: var(--fill-color);\n",
              "    }\n",
              "    40% {\n",
              "      border-color: transparent;\n",
              "      border-right-color: var(--fill-color);\n",
              "      border-top-color: var(--fill-color);\n",
              "    }\n",
              "    60% {\n",
              "      border-color: transparent;\n",
              "      border-right-color: var(--fill-color);\n",
              "    }\n",
              "    80% {\n",
              "      border-color: transparent;\n",
              "      border-right-color: var(--fill-color);\n",
              "      border-bottom-color: var(--fill-color);\n",
              "    }\n",
              "    90% {\n",
              "      border-color: transparent;\n",
              "      border-bottom-color: var(--fill-color);\n",
              "    }\n",
              "  }\n",
              "</style>\n",
              "\n",
              "  <script>\n",
              "    async function quickchart(key) {\n",
              "      const quickchartButtonEl =\n",
              "        document.querySelector('#' + key + ' button');\n",
              "      quickchartButtonEl.disabled = true;  // To prevent multiple clicks.\n",
              "      quickchartButtonEl.classList.add('colab-df-spinner');\n",
              "      try {\n",
              "        const charts = await google.colab.kernel.invokeFunction(\n",
              "            'suggestCharts', [key], {});\n",
              "      } catch (error) {\n",
              "        console.error('Error during call to suggestCharts:', error);\n",
              "      }\n",
              "      quickchartButtonEl.classList.remove('colab-df-spinner');\n",
              "      quickchartButtonEl.classList.add('colab-df-quickchart-complete');\n",
              "    }\n",
              "    (() => {\n",
              "      let quickchartButtonEl =\n",
              "        document.querySelector('#df-298e96fc-9a0e-4902-ae27-0b48dd3eb8e1 button');\n",
              "      quickchartButtonEl.style.display =\n",
              "        google.colab.kernel.accessAllowed ? 'block' : 'none';\n",
              "    })();\n",
              "  </script>\n",
              "</div>\n",
              "    </div>\n",
              "  </div>\n"
            ],
            "application/vnd.google.colaboratory.intrinsic+json": {
              "type": "dataframe",
              "variable_name": "dataset",
              "summary": "{\n  \"name\": \"dataset\",\n  \"rows\": 47692,\n  \"fields\": [\n    {\n      \"column\": \"tweet_text\",\n      \"properties\": {\n        \"dtype\": \"string\",\n        \"num_unique_values\": 46017,\n        \"samples\": [\n          \"@AndyEaston85 Love how we are teaching the Bullshitters a lesson in football. Miss Bully and his message board posts.\",\n          \"GYUK | Anti-feminist YouTuber doubles down on vile Jess Phillips rape joke while leaping to the defence ...: In a video uploaded Thursday (April 23), former UKIP candidate Benjamin jumped to the defence of retired gay porn actor turned men's rights\\u2026 http://dlvr.it/RVRS8h\",\n          \"@Truth_Haqq Islam declared war on all mankind 1400 years ago. Now we return the favor. http://t.co/av4B4yCQzY\"\n        ],\n        \"semantic_type\": \"\",\n        \"description\": \"\"\n      }\n    },\n    {\n      \"column\": \"cyberbullying\",\n      \"properties\": {\n        \"dtype\": \"number\",\n        \"std\": 0,\n        \"min\": 0,\n        \"max\": 1,\n        \"num_unique_values\": 2,\n        \"samples\": [\n          1,\n          0\n        ],\n        \"semantic_type\": \"\",\n        \"description\": \"\"\n      }\n    }\n  ]\n}"
            }
          },
          "metadata": {},
          "execution_count": 5
        }
      ],
      "source": [
        "dataset.head(4)"
      ]
    },
    {
      "cell_type": "markdown",
      "metadata": {
        "id": "jJoVvfp77ZeF"
      },
      "source": [
        "## 2. Análisis exploratorio"
      ]
    },
    {
      "cell_type": "markdown",
      "metadata": {
        "id": "NUmXuDMmhtoS"
      },
      "source": [
        "Podéis saltarlo en este ejercicio."
      ]
    },
    {
      "cell_type": "markdown",
      "metadata": {
        "id": "9wseifFy7b4-"
      },
      "source": [
        "## 3. Preprocesado y Normalización"
      ]
    },
    {
      "cell_type": "markdown",
      "source": [
        "Dividimos el dataset para el proceso. Separamos en 2 varibales distintas los textos y etiquetas."
      ],
      "metadata": {
        "id": "mmcDN7cx4Mju"
      }
    },
    {
      "cell_type": "code",
      "execution_count": null,
      "metadata": {
        "id": "aac98seT7cBD"
      },
      "outputs": [],
      "source": [
        "texts = dataset.tweet_text.values  # an array of strings\n",
        "labels = dataset.cyberbullying.values  # an array of integers"
      ]
    },
    {
      "cell_type": "markdown",
      "metadata": {
        "id": "5vJkVg9X7cOx"
      },
      "source": [
        "## 4. Vectorización"
      ]
    },
    {
      "cell_type": "markdown",
      "source": [
        "Dividimos a su vez, el dataset en training, validatio y test ya que en el caso de las redes neuronales es necesario que haya una parte de validación:"
      ],
      "metadata": {
        "id": "0IlRrlK94dQH"
      }
    },
    {
      "cell_type": "code",
      "execution_count": null,
      "metadata": {
        "id": "lKr2GUiC7iqS"
      },
      "outputs": [],
      "source": [
        "train_texts, test_texts, train_labels, test_labels = train_test_split(texts, labels, test_size=.25,\n",
        "                                                                      random_state=0,stratify = labels)\n",
        "\n",
        "train_texts, val_texts, train_labels, val_labels = train_test_split(train_texts, train_labels, test_size=.2,\n",
        "                                                                    random_state=0,stratify = train_labels)"
      ]
    },
    {
      "cell_type": "markdown",
      "source": [
        "Definimos el modelo que vamos a utilizar. En este caso utilizaremos el modelo Bert basico por tener un tamaño considerable para los recursos que tenemos:"
      ],
      "metadata": {
        "id": "3G8VraLt4rks"
      }
    },
    {
      "cell_type": "code",
      "execution_count": null,
      "metadata": {
        "id": "uPFI4C5WxOSz"
      },
      "outputs": [],
      "source": [
        "model_name = 'bert-base-uncased'"
      ]
    },
    {
      "cell_type": "markdown",
      "source": [
        "Aplicamos el tokenizador del propio modelo:"
      ],
      "metadata": {
        "id": "C4mB5ET346Tn"
      }
    },
    {
      "cell_type": "code",
      "execution_count": null,
      "metadata": {
        "colab": {
          "base_uri": "https://localhost:8080/",
          "height": 269,
          "referenced_widgets": [
            "86710f86c1b74d26ad99a61fed8372cd",
            "367f202783cc4e9e8209b56be8523666",
            "876bcc980896469e9725dce03ac38718",
            "98a2e094be764b6bab4302d4f2f10e5f",
            "7d43a2f063824c928e59f0974f05a7e1",
            "de6d4ca4226b4b42a7bcc0b016f5a875",
            "80748fdb80a74e00a7e5d1b70c5e2381",
            "4ca5f390d7eb40ae8f6009ecf0708a26",
            "ea2324ad7eed464b9e3d3fcb212c4d83",
            "9244f3802d254e5582037fbcbb8f8582",
            "d6d4331785f2472a8009d834ccf334a4",
            "b54ce414f6364bc59262f54610cd3096",
            "f9cf15b945694cf0b5a8d4478ab84a43",
            "706a4f9bf7fb410a9b86adfc1bc745d7",
            "822e772183f44bebbf5422519b7feada",
            "5faa9b540d2641179f022b19f8d3abea",
            "e8ea1a6d6d3543b3899ac8dae51e4fda",
            "5b1645dd81e047dd8462964377469978",
            "c6dc2be6215447f1b30425eb289a02ff",
            "d0260604ef9f4d47b62d95e395fe77c7",
            "43bfd352a3d641d48dff5c07a988385a",
            "3398a1caed5740e0ab60d38524f9a333",
            "77437b24ed024d9883114e7032b848a5",
            "3f0e6c9cdff84e35b2a165eb10d67157",
            "e6ea7e81a35a4db1bd3d03c72b96aed9",
            "6a5b278f96294e56a751ed777892ea82",
            "b3409c4a84bf4d05841dbbe17186d668",
            "975e3a5eb9d84cbfb97ea6ad159144ec",
            "53aaa8e4a9fd425d96ad2293f09500cc",
            "aaa2a99ed4c64580ab8a198c89d68756",
            "afc9d2e03d4a4ddc977963d5f87a41c8",
            "a6b5a79bb1484b0eb123dc4fad4736a9",
            "a77efacdc6cd4f379a15183aa910b4f3",
            "73797854a2174d0cb019c8a84f5e8cea",
            "0db93ab0b95048a4a194283fb5eb9c2d",
            "494416d3074b4f74bf0b842ca22eac18",
            "5121e2ce66a64e2c943fc993ee75b437",
            "e2d27b88aeff4b1bb3c42ffa0147be28",
            "8df6ee139c7646cdb7e857dd49241928",
            "300c1a8fbe894cb5bf17876f6ea0e127",
            "486de64814d94ceaac8e6b3edfec5228",
            "a999cb1234fd4561b895d84cf8b0d029",
            "63af2e253d744b178cd70d85800c0754",
            "9bc5c24c68514930999e91b2fd128c27"
          ]
        },
        "id": "BO-xoMyPxOQD",
        "outputId": "ae069882-e6a6-43a5-f101-1e3a007b0c52"
      },
      "outputs": [
        {
          "output_type": "stream",
          "name": "stderr",
          "text": [
            "/usr/local/lib/python3.10/dist-packages/huggingface_hub/utils/_token.py:88: UserWarning: \n",
            "The secret `HF_TOKEN` does not exist in your Colab secrets.\n",
            "To authenticate with the Hugging Face Hub, create a token in your settings tab (https://huggingface.co/settings/tokens), set it as secret in your Google Colab and restart your session.\n",
            "You will be able to reuse this secret in all of your notebooks.\n",
            "Please note that authentication is recommended but still optional to access public models or datasets.\n",
            "  warnings.warn(\n"
          ]
        },
        {
          "output_type": "display_data",
          "data": {
            "text/plain": [
              "tokenizer_config.json:   0%|          | 0.00/48.0 [00:00<?, ?B/s]"
            ],
            "application/vnd.jupyter.widget-view+json": {
              "version_major": 2,
              "version_minor": 0,
              "model_id": "86710f86c1b74d26ad99a61fed8372cd"
            }
          },
          "metadata": {}
        },
        {
          "output_type": "display_data",
          "data": {
            "text/plain": [
              "config.json:   0%|          | 0.00/570 [00:00<?, ?B/s]"
            ],
            "application/vnd.jupyter.widget-view+json": {
              "version_major": 2,
              "version_minor": 0,
              "model_id": "b54ce414f6364bc59262f54610cd3096"
            }
          },
          "metadata": {}
        },
        {
          "output_type": "display_data",
          "data": {
            "text/plain": [
              "vocab.txt:   0%|          | 0.00/232k [00:00<?, ?B/s]"
            ],
            "application/vnd.jupyter.widget-view+json": {
              "version_major": 2,
              "version_minor": 0,
              "model_id": "77437b24ed024d9883114e7032b848a5"
            }
          },
          "metadata": {}
        },
        {
          "output_type": "display_data",
          "data": {
            "text/plain": [
              "tokenizer.json:   0%|          | 0.00/466k [00:00<?, ?B/s]"
            ],
            "application/vnd.jupyter.widget-view+json": {
              "version_major": 2,
              "version_minor": 0,
              "model_id": "73797854a2174d0cb019c8a84f5e8cea"
            }
          },
          "metadata": {}
        }
      ],
      "source": [
        "tokenizer = AutoTokenizer.from_pretrained(model_name)"
      ]
    },
    {
      "cell_type": "code",
      "execution_count": null,
      "metadata": {
        "id": "aUr5Y_NPxONl"
      },
      "outputs": [],
      "source": [
        "import torch\n",
        "from torch.utils.data import Dataset\n",
        "\n",
        "class CustomDataset(Dataset):\n",
        "    def __init__(self, texts, labels, tokenizer, max_length):\n",
        "        \"\"\"\n",
        "        Constructor de la clase CustomDataset.\n",
        "        Parámetros:\n",
        "        - texts: Lista de textos.\n",
        "        - labels: Lista de etiquetas correspondientes a los textos.\n",
        "        - tokenizer: Objeto del tokenizador a utilizar.\n",
        "        - max_length: Longitud máxima de la secuencia después de la tokenización.\n",
        "        \"\"\"\n",
        "        self.texts = texts\n",
        "        self.labels = labels\n",
        "        self.tokenizer = tokenizer\n",
        "        self.max_length = max_length\n",
        "\n",
        "    def __len__(self):\n",
        "        \"\"\"\n",
        "        Devuelve la longitud del conjunto de datos.\n",
        "        \"\"\"\n",
        "        return len(self.texts)\n",
        "\n",
        "    def __getitem__(self, idx):\n",
        "        \"\"\"\n",
        "        Obtiene un elemento del conjunto de datos.\n",
        "\n",
        "        Parámetros:\n",
        "        - idx: Índice del elemento a obtener.\n",
        "\n",
        "        Devuelve:\n",
        "        Un diccionario con 'input_ids', 'attention_mask' y 'labels'.\n",
        "        \"\"\"\n",
        "        # Obtener el texto y la etiqueta del índice proporcionado\n",
        "        text = str(self.texts[idx])\n",
        "        label = int(self.labels[idx])\n",
        "\n",
        "        # Tokenizar el texto\n",
        "        encoding = self.tokenizer(\n",
        "            text,\n",
        "            add_special_tokens=True,\n",
        "            max_length=self.max_length,\n",
        "            truncation=True,\n",
        "            padding='max_length',\n",
        "            return_tensors='pt'\n",
        "        )\n",
        "\n",
        "        # Devolver el diccionario con los datos\n",
        "        return {\n",
        "            'input_ids': encoding['input_ids'].flatten(),\n",
        "            'attention_mask': encoding['attention_mask'].flatten(),\n",
        "            'labels': torch.tensor(label, dtype=torch.long)\n",
        "        }"
      ]
    },
    {
      "cell_type": "markdown",
      "source": [
        "Se genera 3 datasets nuevos transformados con la función anterior para cada una de las divisiones que hemos realizado previamente más arriba. Ajustamos la longuitud de los vectores, debido a que son tweets y no son muy largos inidcmaos 128 debido a que por defecto son más de 700 y vemos que es excesivamente grande:"
      ],
      "metadata": {
        "id": "wkW0vDRe5002"
      }
    },
    {
      "cell_type": "code",
      "execution_count": null,
      "metadata": {
        "id": "busaHB1dxbvY"
      },
      "outputs": [],
      "source": [
        "max_length = 128  # Puedes ajustar esto según tus necesidades\n",
        "\n",
        "train_dataset = CustomDataset(train_texts, train_labels, tokenizer, max_length)\n",
        "val_dataset = CustomDataset(val_texts, val_labels, tokenizer, max_length)\n",
        "test_dataset = CustomDataset(test_texts, test_labels, tokenizer, max_length)\n"
      ]
    },
    {
      "cell_type": "markdown",
      "source": [
        "Ajustamos también los tramos en los que va a ir consumiendo los documentos la red neuronal. No ponemos más de 8 como tamaño ya que los recursos que tenemos son limitados y pueden dar problemas indicar más:"
      ],
      "metadata": {
        "id": "Xux3ezmZ6HGI"
      }
    },
    {
      "cell_type": "code",
      "execution_count": null,
      "metadata": {
        "id": "D2aSGDTHxbs6"
      },
      "outputs": [],
      "source": [
        "max_seq_length = 96 #@param {type: \"integer\"}\n",
        "train_batch_size =  8#@param {type: \"integer\"}\n",
        "eval_batch_size = 8 #@param {type: \"integer\"}\n",
        "test_batch_size = 8 #@param {type: \"integer\"}"
      ]
    },
    {
      "cell_type": "markdown",
      "metadata": {
        "id": "Y1EtZHFx7ij9"
      },
      "source": [
        "## 5. Entrenamiento y evaluación de modelos\n"
      ]
    },
    {
      "cell_type": "markdown",
      "source": [
        "Definimos el mmodelo de clasificación a utilizar dentro del que ya seleccionamos anteriormente:"
      ],
      "metadata": {
        "id": "7CLB0IOh6Rmq"
      }
    },
    {
      "cell_type": "code",
      "execution_count": null,
      "metadata": {
        "colab": {
          "base_uri": "https://localhost:8080/",
          "height": 138,
          "referenced_widgets": [
            "be9b317a5b464bf3afe86e3adbe6bb79",
            "dad0cf09dac64e5fb6c7f00f2d1ff814",
            "02b974ccd4a844f885e81fb505f1c758",
            "e4ee8ebf1f7b4deeb0f4b28a9dae010a",
            "9a22033a10904d22a14a59148f120958",
            "6f5681ea0d43446e93ce608e24ecbdd9",
            "0ee742c732554198a632fd027bc38d12",
            "80490fb8bf0f4218bb99993b9f7985f2",
            "be5e4b1430714d9f85db8bc7e793c2dd",
            "a2879003256146a9af20c20708f99dbd",
            "2c5e4e1146ac44c78857bcc0d3169b20"
          ]
        },
        "id": "8IQ1V6cmxbon",
        "outputId": "eb44e1db-eaea-47ea-c63f-bbfc005bb48c"
      },
      "outputs": [
        {
          "output_type": "stream",
          "name": "stderr",
          "text": [
            "/usr/local/lib/python3.10/dist-packages/transformers/utils/generic.py:309: UserWarning: torch.utils._pytree._register_pytree_node is deprecated. Please use torch.utils._pytree.register_pytree_node instead.\n",
            "  _torch_pytree._register_pytree_node(\n"
          ]
        },
        {
          "output_type": "display_data",
          "data": {
            "text/plain": [
              "model.safetensors:   0%|          | 0.00/440M [00:00<?, ?B/s]"
            ],
            "application/vnd.jupyter.widget-view+json": {
              "version_major": 2,
              "version_minor": 0,
              "model_id": "be9b317a5b464bf3afe86e3adbe6bb79"
            }
          },
          "metadata": {}
        },
        {
          "output_type": "stream",
          "name": "stderr",
          "text": [
            "Some weights of BertForSequenceClassification were not initialized from the model checkpoint at bert-base-uncased and are newly initialized: ['classifier.weight', 'classifier.bias']\n",
            "You should probably TRAIN this model on a down-stream task to be able to use it for predictions and inference.\n"
          ]
        }
      ],
      "source": [
        "from transformers import AutoModelForSequenceClassification, TrainingArguments, Trainer\n",
        "\n",
        "id2label = {0: \"NO_cyberbullying\", 1: \"cyberbullying\"}\n",
        "label2id = {\"NO_cyberbullying\": 0, \"cyberbullying\": 1}\n",
        "model = AutoModelForSequenceClassification.from_pretrained(model_name,  num_labels=2, id2label=id2label, label2id=label2id)"
      ]
    },
    {
      "cell_type": "markdown",
      "source": [
        "Ajustamos los parametros de entrenamiento. Modificamos las epocas a 1 ya que se ha intentaod con 4 pero debido a que estamos utilizando collab, se supera la capacidad de computo limitada diaria y no termina. Sin embargo, el resultado que se muestra sin correr el codigo está ejecutado con 4 ya que si nos lo dejó hacer una de las veces."
      ],
      "metadata": {
        "id": "fxQWQyCG5SJ9"
      }
    },
    {
      "cell_type": "code",
      "execution_count": null,
      "metadata": {
        "id": "bho0hE7Jxu3c"
      },
      "outputs": [],
      "source": [
        "import accelerate\n",
        "\n",
        "training_args = TrainingArguments(\n",
        "    output_dir=\"modelo_test\",\n",
        "    learning_rate=2e-5,\n",
        "    per_device_train_batch_size=8,\n",
        "    per_device_eval_batch_size=8,\n",
        "    num_train_epochs=1,\n",
        "    weight_decay=0.01,\n",
        "    evaluation_strategy=\"epoch\",\n",
        "    save_strategy=\"epoch\",\n",
        "    load_best_model_at_end=True,\n",
        "    push_to_hub=False\n",
        ")"
      ]
    },
    {
      "cell_type": "code",
      "execution_count": null,
      "metadata": {
        "colab": {
          "base_uri": "https://localhost:8080/",
          "height": 81,
          "referenced_widgets": [
            "e6e9abed15114b4e9c6539ac2d099d67",
            "f614f5fad74d4376b0d451056f428248",
            "673964ec38e5440e98078adfbb77a82d",
            "34bb6fee5e474d368016080f53a49c1b",
            "cc2ac704afbb4abfbb23c671a7ef913b",
            "b966fd69544747918b535aadb3796550",
            "8348e67962b34825bb565a64c39877e4",
            "0d19e8a423c44d1aac91ee885b084010",
            "4a76e962ec3e4b09aeff65030a724599",
            "4ca0cfb20f6449c39a5ad7d85bc1e49a",
            "64666e85698c4a748808cc578009507c",
            "ffe40ce5b8e647ae943e7e1a424a6a24",
            "866936ad13b64ed689feb2cfc236e587",
            "4f30f4135a8d4eadaf2e534f14698342",
            "fbabfa32a8c3490fa17b837de96c1549",
            "5221837e00a54e46b41b2254f1f72b7e",
            "6a5cc695f7d64af9b4178cd33a80d048",
            "698c80fc169143a5b73d68e583a61373",
            "f3a97e0bd6de48eeb39c17d028639577",
            "6facaee9539d4493b63e03da5329a18b",
            "687db1122e8f4217a5a4aa529be6ac83",
            "60f3b6441f4a49a689530e06eef38091"
          ]
        },
        "id": "k4catyksxus8",
        "outputId": "f212b722-ac38-4e40-fc67-d4efbf837f9d"
      },
      "outputs": [
        {
          "output_type": "display_data",
          "data": {
            "text/plain": [
              "Downloading builder script:   0%|          | 0.00/4.20k [00:00<?, ?B/s]"
            ],
            "application/vnd.jupyter.widget-view+json": {
              "version_major": 2,
              "version_minor": 0,
              "model_id": "e6e9abed15114b4e9c6539ac2d099d67"
            }
          },
          "metadata": {}
        },
        {
          "output_type": "display_data",
          "data": {
            "text/plain": [
              "Downloading builder script:   0%|          | 0.00/6.77k [00:00<?, ?B/s]"
            ],
            "application/vnd.jupyter.widget-view+json": {
              "version_major": 2,
              "version_minor": 0,
              "model_id": "ffe40ce5b8e647ae943e7e1a424a6a24"
            }
          },
          "metadata": {}
        }
      ],
      "source": [
        "import numpy as np\n",
        "import evaluate\n",
        "\n",
        "accuracy = evaluate.load(\"accuracy\")\n",
        "f1_score = evaluate.load(\"f1\")\n",
        "\n",
        "def compute_metrics(eval_pred):\n",
        "    predictions, labels = eval_pred\n",
        "    predictions = np.argmax(predictions, axis=1)\n",
        "    accuracy_value = accuracy.compute(predictions=predictions, references=labels)\n",
        "    f1_score_value = f1_score.compute(predictions=predictions, references=labels)\n",
        "\n",
        "    return {\n",
        "        \"accuracy\": accuracy_value,\n",
        "        \"f1_score\": f1_score_value,\n",
        "    }"
      ]
    },
    {
      "cell_type": "markdown",
      "source": [
        "Definimos parametos de entrenamiento:"
      ],
      "metadata": {
        "id": "ftFvXOFx5KFj"
      }
    },
    {
      "cell_type": "code",
      "execution_count": null,
      "metadata": {
        "colab": {
          "base_uri": "https://localhost:8080/"
        },
        "id": "gfiPy44OzS0h",
        "outputId": "7247ce0d-9657-476d-91f7-7a4698469cf8"
      },
      "outputs": [
        {
          "output_type": "stream",
          "name": "stderr",
          "text": [
            "/usr/local/lib/python3.10/dist-packages/accelerate/accelerator.py:436: FutureWarning: Passing the following arguments to `Accelerator` is deprecated and will be removed in version 1.0 of Accelerate: dict_keys(['dispatch_batches', 'split_batches']). Please pass an `accelerate.DataLoaderConfiguration` instead: \n",
            "dataloader_config = DataLoaderConfiguration(dispatch_batches=None, split_batches=False)\n",
            "  warnings.warn(\n"
          ]
        }
      ],
      "source": [
        "trainer = Trainer(\n",
        "    model=model,\n",
        "    args=training_args,\n",
        "    train_dataset=train_dataset,\n",
        "    eval_dataset=val_dataset,\n",
        "    tokenizer=tokenizer,\n",
        "    compute_metrics=compute_metrics,\n",
        ")"
      ]
    },
    {
      "cell_type": "markdown",
      "source": [
        "Realizamos el entrenamiento de nuestra red. (Aparecen 4 epocas pero en el codigo de arriba se ha cambiado el valor a 1 porque se ha agotado la potencia de la gpu de collab)"
      ],
      "metadata": {
        "id": "vBNO1u_g8Acs"
      }
    },
    {
      "cell_type": "code",
      "execution_count": null,
      "metadata": {
        "colab": {
          "base_uri": "https://localhost:8080/",
          "height": 532
        },
        "id": "fpYun6VMzSyi",
        "outputId": "956dd1d0-18c0-4827-dda0-258f7479861f"
      },
      "outputs": [
        {
          "metadata": {
            "tags": null
          },
          "name": "stderr",
          "output_type": "stream",
          "text": [
            "You're using a BertTokenizerFast tokenizer. Please note that with a fast tokenizer, using the `__call__` method is faster than using a method to encode the text followed by a call to the `pad` method to get a padded encoding.\n"
          ]
        },
        {
          "data": {
            "text/html": [
              "\n",
              "    <div>\n",
              "      \n",
              "      <progress value='8112' max='14308' style='width:300px; height:20px; vertical-align: middle;'></progress>\n",
              "      [ 8112/14308 29:16 < 22:22, 4.62 it/s, Epoch 2.27/4]\n",
              "    </div>\n",
              "    <table border=\"1\" class=\"dataframe\">\n",
              "  <thead>\n",
              " <tr style=\"text-align: left;\">\n",
              "      <th>Epoch</th>\n",
              "      <th>Training Loss</th>\n",
              "      <th>Validation Loss</th>\n",
              "      <th>Accuracy</th>\n",
              "      <th>F1 Score</th>\n",
              "    </tr>\n",
              "  </thead>\n",
              "  <tbody>\n",
              "    <tr>\n",
              "      <td>1</td>\n",
              "      <td>0.262800</td>\n",
              "      <td>0.248800</td>\n",
              "      <td>{'accuracy': 0.8916689963656695}</td>\n",
              "      <td>{'f1': 0.9361561907900156}</td>\n",
              "    </tr>\n",
              "    <tr>\n",
              "      <td>2</td>\n",
              "      <td>0.240700</td>\n",
              "      <td>0.271012</td>\n",
              "      <td>{'accuracy': 0.8957226726306962}</td>\n",
              "      <td>{'f1': 0.9393791646351374}</td>\n",
              "    </tr>\n",
              "  </tbody>\n",
              "</table><p>"
            ],
            "text/plain": [
              "<IPython.core.display.HTML object>"
            ]
          },
          "metadata": {},
          "output_type": "display_data"
        },
        {
          "metadata": {
            "tags": null
          },
          "name": "stderr",
          "output_type": "stream",
          "text": [
            "Trainer is attempting to log a value of \"{'accuracy': 0.8916689963656695}\" of type <class 'dict'> for key \"eval/accuracy\" as a scalar. This invocation of Tensorboard's writer.add_scalar() is incorrect so we dropped this attribute.\n",
            "Trainer is attempting to log a value of \"{'f1': 0.9361561907900156}\" of type <class 'dict'> for key \"eval/f1_score\" as a scalar. This invocation of Tensorboard's writer.add_scalar() is incorrect so we dropped this attribute.\n",
            "Trainer is attempting to log a value of \"{'accuracy': 0.8957226726306962}\" of type <class 'dict'> for key \"eval/accuracy\" as a scalar. This invocation of Tensorboard's writer.add_scalar() is incorrect so we dropped this attribute.\n",
            "Trainer is attempting to log a value of \"{'f1': 0.9393791646351374}\" of type <class 'dict'> for key \"eval/f1_score\" as a scalar. This invocation of Tensorboard's writer.add_scalar() is incorrect so we dropped this attribute.\n"
          ]
        },
        {
          "output_type": "display_data",
          "data": {
            "text/plain": [
              "<IPython.core.display.HTML object>"
            ],
            "text/html": [
              "\n",
              "    <div>\n",
              "      \n",
              "      <progress value='14308' max='14308' style='width:300px; height:20px; vertical-align: middle;'></progress>\n",
              "      [14308/14308 52:08, Epoch 4/4]\n",
              "    </div>\n",
              "    <table border=\"1\" class=\"dataframe\">\n",
              "  <thead>\n",
              " <tr style=\"text-align: left;\">\n",
              "      <th>Epoch</th>\n",
              "      <th>Training Loss</th>\n",
              "      <th>Validation Loss</th>\n",
              "      <th>Accuracy</th>\n",
              "      <th>F1 Score</th>\n",
              "    </tr>\n",
              "  </thead>\n",
              "  <tbody>\n",
              "    <tr>\n",
              "      <td>1</td>\n",
              "      <td>0.262800</td>\n",
              "      <td>0.248800</td>\n",
              "      <td>{'accuracy': 0.8916689963656695}</td>\n",
              "      <td>{'f1': 0.9361561907900156}</td>\n",
              "    </tr>\n",
              "    <tr>\n",
              "      <td>2</td>\n",
              "      <td>0.240700</td>\n",
              "      <td>0.271012</td>\n",
              "      <td>{'accuracy': 0.8957226726306962}</td>\n",
              "      <td>{'f1': 0.9393791646351374}</td>\n",
              "    </tr>\n",
              "    <tr>\n",
              "      <td>3</td>\n",
              "      <td>0.200200</td>\n",
              "      <td>0.417095</td>\n",
              "      <td>{'accuracy': 0.885937936818563}</td>\n",
              "      <td>{'f1': 0.9332242225859247}</td>\n",
              "    </tr>\n",
              "    <tr>\n",
              "      <td>4</td>\n",
              "      <td>0.154000</td>\n",
              "      <td>0.529028</td>\n",
              "      <td>{'accuracy': 0.8846798993570031}</td>\n",
              "      <td>{'f1': 0.9320596228279667}</td>\n",
              "    </tr>\n",
              "  </tbody>\n",
              "</table><p>"
            ]
          },
          "metadata": {}
        },
        {
          "output_type": "stream",
          "name": "stderr",
          "text": [
            "Trainer is attempting to log a value of \"{'accuracy': 0.885937936818563}\" of type <class 'dict'> for key \"eval/accuracy\" as a scalar. This invocation of Tensorboard's writer.add_scalar() is incorrect so we dropped this attribute.\n",
            "Trainer is attempting to log a value of \"{'f1': 0.9332242225859247}\" of type <class 'dict'> for key \"eval/f1_score\" as a scalar. This invocation of Tensorboard's writer.add_scalar() is incorrect so we dropped this attribute.\n",
            "Trainer is attempting to log a value of \"{'accuracy': 0.8846798993570031}\" of type <class 'dict'> for key \"eval/accuracy\" as a scalar. This invocation of Tensorboard's writer.add_scalar() is incorrect so we dropped this attribute.\n",
            "Trainer is attempting to log a value of \"{'f1': 0.9320596228279667}\" of type <class 'dict'> for key \"eval/f1_score\" as a scalar. This invocation of Tensorboard's writer.add_scalar() is incorrect so we dropped this attribute.\n"
          ]
        },
        {
          "output_type": "execute_result",
          "data": {
            "text/plain": [
              "TrainOutput(global_step=14308, training_loss=0.21792924394146304, metrics={'train_runtime': 3130.6901, 'train_samples_per_second': 36.561, 'train_steps_per_second': 4.57, 'total_flos': 7528922849126400.0, 'train_loss': 0.21792924394146304, 'epoch': 4.0})"
            ]
          },
          "metadata": {},
          "execution_count": 17
        }
      ],
      "source": [
        "trainer.train()"
      ]
    },
    {
      "cell_type": "markdown",
      "metadata": {
        "id": "ujn2grFozWyO"
      },
      "source": [
        "## evaluacion"
      ]
    },
    {
      "cell_type": "markdown",
      "source": [
        "Realizamos la evaluación y la predicción sobre los datos de test."
      ],
      "metadata": {
        "id": "9cYzdIKd8SrV"
      }
    },
    {
      "cell_type": "code",
      "execution_count": null,
      "metadata": {
        "colab": {
          "base_uri": "https://localhost:8080/",
          "height": 213
        },
        "id": "0JinMwiWzSvh",
        "outputId": "5712faa2-8ee0-46b6-d5b8-159e0efa020b"
      },
      "outputs": [
        {
          "output_type": "display_data",
          "data": {
            "text/plain": [
              "<IPython.core.display.HTML object>"
            ],
            "text/html": [
              "\n",
              "    <div>\n",
              "      \n",
              "      <progress value='1491' max='1491' style='width:300px; height:20px; vertical-align: middle;'></progress>\n",
              "      [1491/1491 01:29]\n",
              "    </div>\n",
              "    "
            ]
          },
          "metadata": {}
        },
        {
          "output_type": "stream",
          "name": "stderr",
          "text": [
            "Trainer is attempting to log a value of \"{'accuracy': 0.8876121781430848}\" of type <class 'dict'> for key \"eval/accuracy\" as a scalar. This invocation of Tensorboard's writer.add_scalar() is incorrect so we dropped this attribute.\n",
            "Trainer is attempting to log a value of \"{'f1': 0.9337551908245996}\" of type <class 'dict'> for key \"eval/f1_score\" as a scalar. This invocation of Tensorboard's writer.add_scalar() is incorrect so we dropped this attribute.\n"
          ]
        },
        {
          "output_type": "execute_result",
          "data": {
            "text/plain": [
              "{'eval_loss': 0.2591255307197571,\n",
              " 'eval_accuracy': {'accuracy': 0.8876121781430848},\n",
              " 'eval_f1_score': {'f1': 0.9337551908245996},\n",
              " 'eval_runtime': 89.5917,\n",
              " 'eval_samples_per_second': 133.082,\n",
              " 'eval_steps_per_second': 16.642,\n",
              " 'epoch': 4.0}"
            ]
          },
          "metadata": {},
          "execution_count": 18
        }
      ],
      "source": [
        "# Se evalua a priori sobre los datos de test\n",
        "trainer.evaluate(test_dataset)"
      ]
    },
    {
      "cell_type": "code",
      "execution_count": null,
      "metadata": {
        "id": "iPMClFgFzm71",
        "colab": {
          "base_uri": "https://localhost:8080/",
          "height": 17
        },
        "outputId": "86e2dd0a-f4f5-46e7-ff97-48f1641e411b"
      },
      "outputs": [
        {
          "output_type": "display_data",
          "data": {
            "text/plain": [
              "<IPython.core.display.HTML object>"
            ],
            "text/html": []
          },
          "metadata": {}
        }
      ],
      "source": [
        "# Se hace la predicción sobre los datos de test\n",
        "predictions = trainer.predict(test_dataset)"
      ]
    },
    {
      "cell_type": "code",
      "source": [
        "#Ejemplo de una de las predicciones\n",
        "predictions[0][0]"
      ],
      "metadata": {
        "colab": {
          "base_uri": "https://localhost:8080/"
        },
        "id": "LBRBUvtLT1lA",
        "outputId": "d54f744b-2924-4664-d450-d6dba2d95928"
      },
      "execution_count": null,
      "outputs": [
        {
          "output_type": "execute_result",
          "data": {
            "text/plain": [
              "array([-2.1744998,  2.0953395], dtype=float32)"
            ]
          },
          "metadata": {},
          "execution_count": 24
        }
      ]
    },
    {
      "cell_type": "markdown",
      "source": [
        "Escogemos la probabilidad más alta del resultado anterior ya que al final ese será la clasificación que ha predicho nuestro modelo:"
      ],
      "metadata": {
        "id": "3pRAVPY76nDk"
      }
    },
    {
      "cell_type": "code",
      "source": [
        "# Access the predicted labels\n",
        "y_pred = predictions.predictions.argmax(axis=1)"
      ],
      "metadata": {
        "id": "2zMlrkTmUmws"
      },
      "execution_count": null,
      "outputs": []
    },
    {
      "cell_type": "markdown",
      "source": [
        "Generamos un dataset con las soluciones de test unicmaente:"
      ],
      "metadata": {
        "id": "OtBir4Yc6vuR"
      }
    },
    {
      "cell_type": "code",
      "source": [
        "y_true = [x[\"labels\"].item() for x in test_dataset]"
      ],
      "metadata": {
        "id": "aWaXei1rT1g9"
      },
      "execution_count": null,
      "outputs": []
    },
    {
      "cell_type": "markdown",
      "source": [
        "Con todo lo realizado anteriormente sacamos las metricas y matriz de confusión:"
      ],
      "metadata": {
        "id": "9P4dqep368ao"
      }
    },
    {
      "cell_type": "code",
      "source": [
        "from sklearn.metrics import classification_report, confusion_matrix\n",
        "print(confusion_matrix(y_true,y_pred))\n",
        "print(classification_report(y_true,y_pred))"
      ],
      "metadata": {
        "colab": {
          "base_uri": "https://localhost:8080/"
        },
        "id": "i1YNTqmcT1W2",
        "outputId": "41fa6f87-8a85-486f-9256-def3eba6cc46"
      },
      "execution_count": null,
      "outputs": [
        {
          "output_type": "stream",
          "name": "stdout",
          "text": [
            "[[1139  847]\n",
            " [ 493 9444]]\n",
            "              precision    recall  f1-score   support\n",
            "\n",
            "           0       0.70      0.57      0.63      1986\n",
            "           1       0.92      0.95      0.93      9937\n",
            "\n",
            "    accuracy                           0.89     11923\n",
            "   macro avg       0.81      0.76      0.78     11923\n",
            "weighted avg       0.88      0.89      0.88     11923\n",
            "\n"
          ]
        }
      ]
    },
    {
      "cell_type": "markdown",
      "source": [
        "### Conclusiones finales y comparación con ingenieria de caracteristicas"
      ],
      "metadata": {
        "id": "y99JiDvOU1vM"
      }
    },
    {
      "cell_type": "markdown",
      "source": [
        "Como se puede ver en las metricas de la red neuronal los resultado en general son mejores. No hay una diferencia abismal pero si suficiente y considerable. Eso sí, en la red neuronal se pierde toda la explicabilidad y conocimiento de los datos y de la importancia de las varibales para que el modelo se decante por decir si pertence un tweet a la clase 1 o 0.\n",
        "\n",
        "Además, con ingenieria de caracteristicas las características diseñadas específicamente pueden adaptarse mejor a un problema particular y pueden ser más interpretables. Sin embargo, Las redes neuronales capturan automáticamente patrones complejos en los datos sin necesidad de especificar manualmente las características. Esto puede ser útil cuando las relaciones entre las características y las salidas son difíciles de definir o están altamente interconectadas, además de ser más \"sencillo y/o rapido\" en su ejecución. Pueden ser más utiles si se quiere realziar proyectos de forma rapida y son más faciles de escalar en los casos en los que los datos son masivos.\n",
        "\n",
        "También destacar que la capacidad de computación para entrenar redes neuronales es mucho mayor y es necesario tener GPU para poder realziarlo más rapidamente.\n",
        "\n",
        "En cuanto a la clase 0 mejora ligeramente (f1-score solo 0.01 mejor que mediante ingenieria de caract.). Y en la clase 1 los sigue detectando muy bien pero con un mayor recall, ahí donde se aprecia la diferencia y la mejora del modelo. Si se balancean los datos para la red neuronal posiblemente mejoren las metricas para la clase 0.\n",
        "\n",
        "Comparando las matrices de confusión se ve claramente que se equivoca mucho menos que con ingenieria de caracteristicas por lo que si el objetivo es simplemente predecir bien sin importar la explicabilidad de las respuestas del modelo se debe elegir realizar un modelo mediante redes neuronales. No obstante, Si se prefiere esa explicabilidad y conocimiento sobre los datos y tener mayor adaptabilidad se debe optar por un modelo mediante ingenieria de caracteristicas.\n"
      ],
      "metadata": {
        "id": "HFILadbGC66M"
      }
    },
    {
      "cell_type": "markdown",
      "source": [
        "![image.png](data:image/png;base64,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)![image.png](data:image/png;base64,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)![image.png](\n",
        ")"
      ],
      "metadata": {
        "id": "rDEqCtPbU8vz"
      }
    },
    {
      "cell_type": "code",
      "source": [],
      "metadata": {
        "id": "3n1Adpx3CxA5"
      },
      "execution_count": null,
      "outputs": []
    }
  ],
  "metadata": {
    "accelerator": "GPU",
    "colab": {
      "gpuType": "T4",
      "provenance": []
    },
    "kernelspec": {
      "display_name": "Python 3",
      "name": "python3"
    },
    "language_info": {
      "name": "python"
    },
    "widgets": {
      "application/vnd.jupyter.widget-state+json": {
        "86710f86c1b74d26ad99a61fed8372cd": {
          "model_module": "@jupyter-widgets/controls",
          "model_name": "HBoxModel",
          "model_module_version": "1.5.0",
          "state": {
            "_dom_classes": [],
            "_model_module": "@jupyter-widgets/controls",
            "_model_module_version": "1.5.0",
            "_model_name": "HBoxModel",
            "_view_count": null,
            "_view_module": "@jupyter-widgets/controls",
            "_view_module_version": "1.5.0",
            "_view_name": "HBoxView",
            "box_style": "",
            "children": [
              "IPY_MODEL_367f202783cc4e9e8209b56be8523666",
              "IPY_MODEL_876bcc980896469e9725dce03ac38718",
              "IPY_MODEL_98a2e094be764b6bab4302d4f2f10e5f"
            ],
            "layout": "IPY_MODEL_7d43a2f063824c928e59f0974f05a7e1"
          }
        },
        "367f202783cc4e9e8209b56be8523666": {
          "model_module": "@jupyter-widgets/controls",
          "model_name": "HTMLModel",
          "model_module_version": "1.5.0",
          "state": {
            "_dom_classes": [],
            "_model_module": "@jupyter-widgets/controls",
            "_model_module_version": "1.5.0",
            "_model_name": "HTMLModel",
            "_view_count": null,
            "_view_module": "@jupyter-widgets/controls",
            "_view_module_version": "1.5.0",
            "_view_name": "HTMLView",
            "description": "",
            "description_tooltip": null,
            "layout": "IPY_MODEL_de6d4ca4226b4b42a7bcc0b016f5a875",
            "placeholder": "​",
            "style": "IPY_MODEL_80748fdb80a74e00a7e5d1b70c5e2381",
            "value": "tokenizer_config.json: 100%"
          }
        },
        "876bcc980896469e9725dce03ac38718": {
          "model_module": "@jupyter-widgets/controls",
          "model_name": "FloatProgressModel",
          "model_module_version": "1.5.0",
          "state": {
            "_dom_classes": [],
            "_model_module": "@jupyter-widgets/controls",
            "_model_module_version": "1.5.0",
            "_model_name": "FloatProgressModel",
            "_view_count": null,
            "_view_module": "@jupyter-widgets/controls",
            "_view_module_version": "1.5.0",
            "_view_name": "ProgressView",
            "bar_style": "success",
            "description": "",
            "description_tooltip": null,
            "layout": "IPY_MODEL_4ca5f390d7eb40ae8f6009ecf0708a26",
            "max": 48,
            "min": 0,
            "orientation": "horizontal",
            "style": "IPY_MODEL_ea2324ad7eed464b9e3d3fcb212c4d83",
            "value": 48
          }
        },
        "98a2e094be764b6bab4302d4f2f10e5f": {
          "model_module": "@jupyter-widgets/controls",
          "model_name": "HTMLModel",
          "model_module_version": "1.5.0",
          "state": {
            "_dom_classes": [],
            "_model_module": "@jupyter-widgets/controls",
            "_model_module_version": "1.5.0",
            "_model_name": "HTMLModel",
            "_view_count": null,
            "_view_module": "@jupyter-widgets/controls",
            "_view_module_version": "1.5.0",
            "_view_name": "HTMLView",
            "description": "",
            "description_tooltip": null,
            "layout": "IPY_MODEL_9244f3802d254e5582037fbcbb8f8582",
            "placeholder": "​",
            "style": "IPY_MODEL_d6d4331785f2472a8009d834ccf334a4",
            "value": " 48.0/48.0 [00:00&lt;00:00, 3.45kB/s]"
          }
        },
        "7d43a2f063824c928e59f0974f05a7e1": {
          "model_module": "@jupyter-widgets/base",
          "model_name": "LayoutModel",
          "model_module_version": "1.2.0",
          "state": {
            "_model_module": "@jupyter-widgets/base",
            "_model_module_version": "1.2.0",
            "_model_name": "LayoutModel",
            "_view_count": null,
            "_view_module": "@jupyter-widgets/base",
            "_view_module_version": "1.2.0",
            "_view_name": "LayoutView",
            "align_content": null,
            "align_items": null,
            "align_self": null,
            "border": null,
            "bottom": null,
            "display": null,
            "flex": null,
            "flex_flow": null,
            "grid_area": null,
            "grid_auto_columns": null,
            "grid_auto_flow": null,
            "grid_auto_rows": null,
            "grid_column": null,
            "grid_gap": null,
            "grid_row": null,
            "grid_template_areas": null,
            "grid_template_columns": null,
            "grid_template_rows": null,
            "height": null,
            "justify_content": null,
            "justify_items": null,
            "left": null,
            "margin": null,
            "max_height": null,
            "max_width": null,
            "min_height": null,
            "min_width": null,
            "object_fit": null,
            "object_position": null,
            "order": null,
            "overflow": null,
            "overflow_x": null,
            "overflow_y": null,
            "padding": null,
            "right": null,
            "top": null,
            "visibility": null,
            "width": null
          }
        },
        "de6d4ca4226b4b42a7bcc0b016f5a875": {
          "model_module": "@jupyter-widgets/base",
          "model_name": "LayoutModel",
          "model_module_version": "1.2.0",
          "state": {
            "_model_module": "@jupyter-widgets/base",
            "_model_module_version": "1.2.0",
            "_model_name": "LayoutModel",
            "_view_count": null,
            "_view_module": "@jupyter-widgets/base",
            "_view_module_version": "1.2.0",
            "_view_name": "LayoutView",
            "align_content": null,
            "align_items": null,
            "align_self": null,
            "border": null,
            "bottom": null,
            "display": null,
            "flex": null,
            "flex_flow": null,
            "grid_area": null,
            "grid_auto_columns": null,
            "grid_auto_flow": null,
            "grid_auto_rows": null,
            "grid_column": null,
            "grid_gap": null,
            "grid_row": null,
            "grid_template_areas": null,
            "grid_template_columns": null,
            "grid_template_rows": null,
            "height": null,
            "justify_content": null,
            "justify_items": null,
            "left": null,
            "margin": null,
            "max_height": null,
            "max_width": null,
            "min_height": null,
            "min_width": null,
            "object_fit": null,
            "object_position": null,
            "order": null,
            "overflow": null,
            "overflow_x": null,
            "overflow_y": null,
            "padding": null,
            "right": null,
            "top": null,
            "visibility": null,
            "width": null
          }
        },
        "80748fdb80a74e00a7e5d1b70c5e2381": {
          "model_module": "@jupyter-widgets/controls",
          "model_name": "DescriptionStyleModel",
          "model_module_version": "1.5.0",
          "state": {
            "_model_module": "@jupyter-widgets/controls",
            "_model_module_version": "1.5.0",
            "_model_name": "DescriptionStyleModel",
            "_view_count": null,
            "_view_module": "@jupyter-widgets/base",
            "_view_module_version": "1.2.0",
            "_view_name": "StyleView",
            "description_width": ""
          }
        },
        "4ca5f390d7eb40ae8f6009ecf0708a26": {
          "model_module": "@jupyter-widgets/base",
          "model_name": "LayoutModel",
          "model_module_version": "1.2.0",
          "state": {
            "_model_module": "@jupyter-widgets/base",
            "_model_module_version": "1.2.0",
            "_model_name": "LayoutModel",
            "_view_count": null,
            "_view_module": "@jupyter-widgets/base",
            "_view_module_version": "1.2.0",
            "_view_name": "LayoutView",
            "align_content": null,
            "align_items": null,
            "align_self": null,
            "border": null,
            "bottom": null,
            "display": null,
            "flex": null,
            "flex_flow": null,
            "grid_area": null,
            "grid_auto_columns": null,
            "grid_auto_flow": null,
            "grid_auto_rows": null,
            "grid_column": null,
            "grid_gap": null,
            "grid_row": null,
            "grid_template_areas": null,
            "grid_template_columns": null,
            "grid_template_rows": null,
            "height": null,
            "justify_content": null,
            "justify_items": null,
            "left": null,
            "margin": null,
            "max_height": null,
            "max_width": null,
            "min_height": null,
            "min_width": null,
            "object_fit": null,
            "object_position": null,
            "order": null,
            "overflow": null,
            "overflow_x": null,
            "overflow_y": null,
            "padding": null,
            "right": null,
            "top": null,
            "visibility": null,
            "width": null
          }
        },
        "ea2324ad7eed464b9e3d3fcb212c4d83": {
          "model_module": "@jupyter-widgets/controls",
          "model_name": "ProgressStyleModel",
          "model_module_version": "1.5.0",
          "state": {
            "_model_module": "@jupyter-widgets/controls",
            "_model_module_version": "1.5.0",
            "_model_name": "ProgressStyleModel",
            "_view_count": null,
            "_view_module": "@jupyter-widgets/base",
            "_view_module_version": "1.2.0",
            "_view_name": "StyleView",
            "bar_color": null,
            "description_width": ""
          }
        },
        "9244f3802d254e5582037fbcbb8f8582": {
          "model_module": "@jupyter-widgets/base",
          "model_name": "LayoutModel",
          "model_module_version": "1.2.0",
          "state": {
            "_model_module": "@jupyter-widgets/base",
            "_model_module_version": "1.2.0",
            "_model_name": "LayoutModel",
            "_view_count": null,
            "_view_module": "@jupyter-widgets/base",
            "_view_module_version": "1.2.0",
            "_view_name": "LayoutView",
            "align_content": null,
            "align_items": null,
            "align_self": null,
            "border": null,
            "bottom": null,
            "display": null,
            "flex": null,
            "flex_flow": null,
            "grid_area": null,
            "grid_auto_columns": null,
            "grid_auto_flow": null,
            "grid_auto_rows": null,
            "grid_column": null,
            "grid_gap": null,
            "grid_row": null,
            "grid_template_areas": null,
            "grid_template_columns": null,
            "grid_template_rows": null,
            "height": null,
            "justify_content": null,
            "justify_items": null,
            "left": null,
            "margin": null,
            "max_height": null,
            "max_width": null,
            "min_height": null,
            "min_width": null,
            "object_fit": null,
            "object_position": null,
            "order": null,
            "overflow": null,
            "overflow_x": null,
            "overflow_y": null,
            "padding": null,
            "right": null,
            "top": null,
            "visibility": null,
            "width": null
          }
        },
        "d6d4331785f2472a8009d834ccf334a4": {
          "model_module": "@jupyter-widgets/controls",
          "model_name": "DescriptionStyleModel",
          "model_module_version": "1.5.0",
          "state": {
            "_model_module": "@jupyter-widgets/controls",
            "_model_module_version": "1.5.0",
            "_model_name": "DescriptionStyleModel",
            "_view_count": null,
            "_view_module": "@jupyter-widgets/base",
            "_view_module_version": "1.2.0",
            "_view_name": "StyleView",
            "description_width": ""
          }
        },
        "b54ce414f6364bc59262f54610cd3096": {
          "model_module": "@jupyter-widgets/controls",
          "model_name": "HBoxModel",
          "model_module_version": "1.5.0",
          "state": {
            "_dom_classes": [],
            "_model_module": "@jupyter-widgets/controls",
            "_model_module_version": "1.5.0",
            "_model_name": "HBoxModel",
            "_view_count": null,
            "_view_module": "@jupyter-widgets/controls",
            "_view_module_version": "1.5.0",
            "_view_name": "HBoxView",
            "box_style": "",
            "children": [
              "IPY_MODEL_f9cf15b945694cf0b5a8d4478ab84a43",
              "IPY_MODEL_706a4f9bf7fb410a9b86adfc1bc745d7",
              "IPY_MODEL_822e772183f44bebbf5422519b7feada"
            ],
            "layout": "IPY_MODEL_5faa9b540d2641179f022b19f8d3abea"
          }
        },
        "f9cf15b945694cf0b5a8d4478ab84a43": {
          "model_module": "@jupyter-widgets/controls",
          "model_name": "HTMLModel",
          "model_module_version": "1.5.0",
          "state": {
            "_dom_classes": [],
            "_model_module": "@jupyter-widgets/controls",
            "_model_module_version": "1.5.0",
            "_model_name": "HTMLModel",
            "_view_count": null,
            "_view_module": "@jupyter-widgets/controls",
            "_view_module_version": "1.5.0",
            "_view_name": "HTMLView",
            "description": "",
            "description_tooltip": null,
            "layout": "IPY_MODEL_e8ea1a6d6d3543b3899ac8dae51e4fda",
            "placeholder": "​",
            "style": "IPY_MODEL_5b1645dd81e047dd8462964377469978",
            "value": "config.json: 100%"
          }
        },
        "706a4f9bf7fb410a9b86adfc1bc745d7": {
          "model_module": "@jupyter-widgets/controls",
          "model_name": "FloatProgressModel",
          "model_module_version": "1.5.0",
          "state": {
            "_dom_classes": [],
            "_model_module": "@jupyter-widgets/controls",
            "_model_module_version": "1.5.0",
            "_model_name": "FloatProgressModel",
            "_view_count": null,
            "_view_module": "@jupyter-widgets/controls",
            "_view_module_version": "1.5.0",
            "_view_name": "ProgressView",
            "bar_style": "success",
            "description": "",
            "description_tooltip": null,
            "layout": "IPY_MODEL_c6dc2be6215447f1b30425eb289a02ff",
            "max": 570,
            "min": 0,
            "orientation": "horizontal",
            "style": "IPY_MODEL_d0260604ef9f4d47b62d95e395fe77c7",
            "value": 570
          }
        },
        "822e772183f44bebbf5422519b7feada": {
          "model_module": "@jupyter-widgets/controls",
          "model_name": "HTMLModel",
          "model_module_version": "1.5.0",
          "state": {
            "_dom_classes": [],
            "_model_module": "@jupyter-widgets/controls",
            "_model_module_version": "1.5.0",
            "_model_name": "HTMLModel",
            "_view_count": null,
            "_view_module": "@jupyter-widgets/controls",
            "_view_module_version": "1.5.0",
            "_view_name": "HTMLView",
            "description": "",
            "description_tooltip": null,
            "layout": "IPY_MODEL_43bfd352a3d641d48dff5c07a988385a",
            "placeholder": "​",
            "style": "IPY_MODEL_3398a1caed5740e0ab60d38524f9a333",
            "value": " 570/570 [00:00&lt;00:00, 43.9kB/s]"
          }
        },
        "5faa9b540d2641179f022b19f8d3abea": {
          "model_module": "@jupyter-widgets/base",
          "model_name": "LayoutModel",
          "model_module_version": "1.2.0",
          "state": {
            "_model_module": "@jupyter-widgets/base",
            "_model_module_version": "1.2.0",
            "_model_name": "LayoutModel",
            "_view_count": null,
            "_view_module": "@jupyter-widgets/base",
            "_view_module_version": "1.2.0",
            "_view_name": "LayoutView",
            "align_content": null,
            "align_items": null,
            "align_self": null,
            "border": null,
            "bottom": null,
            "display": null,
            "flex": null,
            "flex_flow": null,
            "grid_area": null,
            "grid_auto_columns": null,
            "grid_auto_flow": null,
            "grid_auto_rows": null,
            "grid_column": null,
            "grid_gap": null,
            "grid_row": null,
            "grid_template_areas": null,
            "grid_template_columns": null,
            "grid_template_rows": null,
            "height": null,
            "justify_content": null,
            "justify_items": null,
            "left": null,
            "margin": null,
            "max_height": null,
            "max_width": null,
            "min_height": null,
            "min_width": null,
            "object_fit": null,
            "object_position": null,
            "order": null,
            "overflow": null,
            "overflow_x": null,
            "overflow_y": null,
            "padding": null,
            "right": null,
            "top": null,
            "visibility": null,
            "width": null
          }
        },
        "e8ea1a6d6d3543b3899ac8dae51e4fda": {
          "model_module": "@jupyter-widgets/base",
          "model_name": "LayoutModel",
          "model_module_version": "1.2.0",
          "state": {
            "_model_module": "@jupyter-widgets/base",
            "_model_module_version": "1.2.0",
            "_model_name": "LayoutModel",
            "_view_count": null,
            "_view_module": "@jupyter-widgets/base",
            "_view_module_version": "1.2.0",
            "_view_name": "LayoutView",
            "align_content": null,
            "align_items": null,
            "align_self": null,
            "border": null,
            "bottom": null,
            "display": null,
            "flex": null,
            "flex_flow": null,
            "grid_area": null,
            "grid_auto_columns": null,
            "grid_auto_flow": null,
            "grid_auto_rows": null,
            "grid_column": null,
            "grid_gap": null,
            "grid_row": null,
            "grid_template_areas": null,
            "grid_template_columns": null,
            "grid_template_rows": null,
            "height": null,
            "justify_content": null,
            "justify_items": null,
            "left": null,
            "margin": null,
            "max_height": null,
            "max_width": null,
            "min_height": null,
            "min_width": null,
            "object_fit": null,
            "object_position": null,
            "order": null,
            "overflow": null,
            "overflow_x": null,
            "overflow_y": null,
            "padding": null,
            "right": null,
            "top": null,
            "visibility": null,
            "width": null
          }
        },
        "5b1645dd81e047dd8462964377469978": {
          "model_module": "@jupyter-widgets/controls",
          "model_name": "DescriptionStyleModel",
          "model_module_version": "1.5.0",
          "state": {
            "_model_module": "@jupyter-widgets/controls",
            "_model_module_version": "1.5.0",
            "_model_name": "DescriptionStyleModel",
            "_view_count": null,
            "_view_module": "@jupyter-widgets/base",
            "_view_module_version": "1.2.0",
            "_view_name": "StyleView",
            "description_width": ""
          }
        },
        "c6dc2be6215447f1b30425eb289a02ff": {
          "model_module": "@jupyter-widgets/base",
          "model_name": "LayoutModel",
          "model_module_version": "1.2.0",
          "state": {
            "_model_module": "@jupyter-widgets/base",
            "_model_module_version": "1.2.0",
            "_model_name": "LayoutModel",
            "_view_count": null,
            "_view_module": "@jupyter-widgets/base",
            "_view_module_version": "1.2.0",
            "_view_name": "LayoutView",
            "align_content": null,
            "align_items": null,
            "align_self": null,
            "border": null,
            "bottom": null,
            "display": null,
            "flex": null,
            "flex_flow": null,
            "grid_area": null,
            "grid_auto_columns": null,
            "grid_auto_flow": null,
            "grid_auto_rows": null,
            "grid_column": null,
            "grid_gap": null,
            "grid_row": null,
            "grid_template_areas": null,
            "grid_template_columns": null,
            "grid_template_rows": null,
            "height": null,
            "justify_content": null,
            "justify_items": null,
            "left": null,
            "margin": null,
            "max_height": null,
            "max_width": null,
            "min_height": null,
            "min_width": null,
            "object_fit": null,
            "object_position": null,
            "order": null,
            "overflow": null,
            "overflow_x": null,
            "overflow_y": null,
            "padding": null,
            "right": null,
            "top": null,
            "visibility": null,
            "width": null
          }
        },
        "d0260604ef9f4d47b62d95e395fe77c7": {
          "model_module": "@jupyter-widgets/controls",
          "model_name": "ProgressStyleModel",
          "model_module_version": "1.5.0",
          "state": {
            "_model_module": "@jupyter-widgets/controls",
            "_model_module_version": "1.5.0",
            "_model_name": "ProgressStyleModel",
            "_view_count": null,
            "_view_module": "@jupyter-widgets/base",
            "_view_module_version": "1.2.0",
            "_view_name": "StyleView",
            "bar_color": null,
            "description_width": ""
          }
        },
        "43bfd352a3d641d48dff5c07a988385a": {
          "model_module": "@jupyter-widgets/base",
          "model_name": "LayoutModel",
          "model_module_version": "1.2.0",
          "state": {
            "_model_module": "@jupyter-widgets/base",
            "_model_module_version": "1.2.0",
            "_model_name": "LayoutModel",
            "_view_count": null,
            "_view_module": "@jupyter-widgets/base",
            "_view_module_version": "1.2.0",
            "_view_name": "LayoutView",
            "align_content": null,
            "align_items": null,
            "align_self": null,
            "border": null,
            "bottom": null,
            "display": null,
            "flex": null,
            "flex_flow": null,
            "grid_area": null,
            "grid_auto_columns": null,
            "grid_auto_flow": null,
            "grid_auto_rows": null,
            "grid_column": null,
            "grid_gap": null,
            "grid_row": null,
            "grid_template_areas": null,
            "grid_template_columns": null,
            "grid_template_rows": null,
            "height": null,
            "justify_content": null,
            "justify_items": null,
            "left": null,
            "margin": null,
            "max_height": null,
            "max_width": null,
            "min_height": null,
            "min_width": null,
            "object_fit": null,
            "object_position": null,
            "order": null,
            "overflow": null,
            "overflow_x": null,
            "overflow_y": null,
            "padding": null,
            "right": null,
            "top": null,
            "visibility": null,
            "width": null
          }
        },
        "3398a1caed5740e0ab60d38524f9a333": {
          "model_module": "@jupyter-widgets/controls",
          "model_name": "DescriptionStyleModel",
          "model_module_version": "1.5.0",
          "state": {
            "_model_module": "@jupyter-widgets/controls",
            "_model_module_version": "1.5.0",
            "_model_name": "DescriptionStyleModel",
            "_view_count": null,
            "_view_module": "@jupyter-widgets/base",
            "_view_module_version": "1.2.0",
            "_view_name": "StyleView",
            "description_width": ""
          }
        },
        "77437b24ed024d9883114e7032b848a5": {
          "model_module": "@jupyter-widgets/controls",
          "model_name": "HBoxModel",
          "model_module_version": "1.5.0",
          "state": {
            "_dom_classes": [],
            "_model_module": "@jupyter-widgets/controls",
            "_model_module_version": "1.5.0",
            "_model_name": "HBoxModel",
            "_view_count": null,
            "_view_module": "@jupyter-widgets/controls",
            "_view_module_version": "1.5.0",
            "_view_name": "HBoxView",
            "box_style": "",
            "children": [
              "IPY_MODEL_3f0e6c9cdff84e35b2a165eb10d67157",
              "IPY_MODEL_e6ea7e81a35a4db1bd3d03c72b96aed9",
              "IPY_MODEL_6a5b278f96294e56a751ed777892ea82"
            ],
            "layout": "IPY_MODEL_b3409c4a84bf4d05841dbbe17186d668"
          }
        },
        "3f0e6c9cdff84e35b2a165eb10d67157": {
          "model_module": "@jupyter-widgets/controls",
          "model_name": "HTMLModel",
          "model_module_version": "1.5.0",
          "state": {
            "_dom_classes": [],
            "_model_module": "@jupyter-widgets/controls",
            "_model_module_version": "1.5.0",
            "_model_name": "HTMLModel",
            "_view_count": null,
            "_view_module": "@jupyter-widgets/controls",
            "_view_module_version": "1.5.0",
            "_view_name": "HTMLView",
            "description": "",
            "description_tooltip": null,
            "layout": "IPY_MODEL_975e3a5eb9d84cbfb97ea6ad159144ec",
            "placeholder": "​",
            "style": "IPY_MODEL_53aaa8e4a9fd425d96ad2293f09500cc",
            "value": "vocab.txt: 100%"
          }
        },
        "e6ea7e81a35a4db1bd3d03c72b96aed9": {
          "model_module": "@jupyter-widgets/controls",
          "model_name": "FloatProgressModel",
          "model_module_version": "1.5.0",
          "state": {
            "_dom_classes": [],
            "_model_module": "@jupyter-widgets/controls",
            "_model_module_version": "1.5.0",
            "_model_name": "FloatProgressModel",
            "_view_count": null,
            "_view_module": "@jupyter-widgets/controls",
            "_view_module_version": "1.5.0",
            "_view_name": "ProgressView",
            "bar_style": "success",
            "description": "",
            "description_tooltip": null,
            "layout": "IPY_MODEL_aaa2a99ed4c64580ab8a198c89d68756",
            "max": 231508,
            "min": 0,
            "orientation": "horizontal",
            "style": "IPY_MODEL_afc9d2e03d4a4ddc977963d5f87a41c8",
            "value": 231508
          }
        },
        "6a5b278f96294e56a751ed777892ea82": {
          "model_module": "@jupyter-widgets/controls",
          "model_name": "HTMLModel",
          "model_module_version": "1.5.0",
          "state": {
            "_dom_classes": [],
            "_model_module": "@jupyter-widgets/controls",
            "_model_module_version": "1.5.0",
            "_model_name": "HTMLModel",
            "_view_count": null,
            "_view_module": "@jupyter-widgets/controls",
            "_view_module_version": "1.5.0",
            "_view_name": "HTMLView",
            "description": "",
            "description_tooltip": null,
            "layout": "IPY_MODEL_a6b5a79bb1484b0eb123dc4fad4736a9",
            "placeholder": "​",
            "style": "IPY_MODEL_a77efacdc6cd4f379a15183aa910b4f3",
            "value": " 232k/232k [00:00&lt;00:00, 7.04MB/s]"
          }
        },
        "b3409c4a84bf4d05841dbbe17186d668": {
          "model_module": "@jupyter-widgets/base",
          "model_name": "LayoutModel",
          "model_module_version": "1.2.0",
          "state": {
            "_model_module": "@jupyter-widgets/base",
            "_model_module_version": "1.2.0",
            "_model_name": "LayoutModel",
            "_view_count": null,
            "_view_module": "@jupyter-widgets/base",
            "_view_module_version": "1.2.0",
            "_view_name": "LayoutView",
            "align_content": null,
            "align_items": null,
            "align_self": null,
            "border": null,
            "bottom": null,
            "display": null,
            "flex": null,
            "flex_flow": null,
            "grid_area": null,
            "grid_auto_columns": null,
            "grid_auto_flow": null,
            "grid_auto_rows": null,
            "grid_column": null,
            "grid_gap": null,
            "grid_row": null,
            "grid_template_areas": null,
            "grid_template_columns": null,
            "grid_template_rows": null,
            "height": null,
            "justify_content": null,
            "justify_items": null,
            "left": null,
            "margin": null,
            "max_height": null,
            "max_width": null,
            "min_height": null,
            "min_width": null,
            "object_fit": null,
            "object_position": null,
            "order": null,
            "overflow": null,
            "overflow_x": null,
            "overflow_y": null,
            "padding": null,
            "right": null,
            "top": null,
            "visibility": null,
            "width": null
          }
        },
        "975e3a5eb9d84cbfb97ea6ad159144ec": {
          "model_module": "@jupyter-widgets/base",
          "model_name": "LayoutModel",
          "model_module_version": "1.2.0",
          "state": {
            "_model_module": "@jupyter-widgets/base",
            "_model_module_version": "1.2.0",
            "_model_name": "LayoutModel",
            "_view_count": null,
            "_view_module": "@jupyter-widgets/base",
            "_view_module_version": "1.2.0",
            "_view_name": "LayoutView",
            "align_content": null,
            "align_items": null,
            "align_self": null,
            "border": null,
            "bottom": null,
            "display": null,
            "flex": null,
            "flex_flow": null,
            "grid_area": null,
            "grid_auto_columns": null,
            "grid_auto_flow": null,
            "grid_auto_rows": null,
            "grid_column": null,
            "grid_gap": null,
            "grid_row": null,
            "grid_template_areas": null,
            "grid_template_columns": null,
            "grid_template_rows": null,
            "height": null,
            "justify_content": null,
            "justify_items": null,
            "left": null,
            "margin": null,
            "max_height": null,
            "max_width": null,
            "min_height": null,
            "min_width": null,
            "object_fit": null,
            "object_position": null,
            "order": null,
            "overflow": null,
            "overflow_x": null,
            "overflow_y": null,
            "padding": null,
            "right": null,
            "top": null,
            "visibility": null,
            "width": null
          }
        },
        "53aaa8e4a9fd425d96ad2293f09500cc": {
          "model_module": "@jupyter-widgets/controls",
          "model_name": "DescriptionStyleModel",
          "model_module_version": "1.5.0",
          "state": {
            "_model_module": "@jupyter-widgets/controls",
            "_model_module_version": "1.5.0",
            "_model_name": "DescriptionStyleModel",
            "_view_count": null,
            "_view_module": "@jupyter-widgets/base",
            "_view_module_version": "1.2.0",
            "_view_name": "StyleView",
            "description_width": ""
          }
        },
        "aaa2a99ed4c64580ab8a198c89d68756": {
          "model_module": "@jupyter-widgets/base",
          "model_name": "LayoutModel",
          "model_module_version": "1.2.0",
          "state": {
            "_model_module": "@jupyter-widgets/base",
            "_model_module_version": "1.2.0",
            "_model_name": "LayoutModel",
            "_view_count": null,
            "_view_module": "@jupyter-widgets/base",
            "_view_module_version": "1.2.0",
            "_view_name": "LayoutView",
            "align_content": null,
            "align_items": null,
            "align_self": null,
            "border": null,
            "bottom": null,
            "display": null,
            "flex": null,
            "flex_flow": null,
            "grid_area": null,
            "grid_auto_columns": null,
            "grid_auto_flow": null,
            "grid_auto_rows": null,
            "grid_column": null,
            "grid_gap": null,
            "grid_row": null,
            "grid_template_areas": null,
            "grid_template_columns": null,
            "grid_template_rows": null,
            "height": null,
            "justify_content": null,
            "justify_items": null,
            "left": null,
            "margin": null,
            "max_height": null,
            "max_width": null,
            "min_height": null,
            "min_width": null,
            "object_fit": null,
            "object_position": null,
            "order": null,
            "overflow": null,
            "overflow_x": null,
            "overflow_y": null,
            "padding": null,
            "right": null,
            "top": null,
            "visibility": null,
            "width": null
          }
        },
        "afc9d2e03d4a4ddc977963d5f87a41c8": {
          "model_module": "@jupyter-widgets/controls",
          "model_name": "ProgressStyleModel",
          "model_module_version": "1.5.0",
          "state": {
            "_model_module": "@jupyter-widgets/controls",
            "_model_module_version": "1.5.0",
            "_model_name": "ProgressStyleModel",
            "_view_count": null,
            "_view_module": "@jupyter-widgets/base",
            "_view_module_version": "1.2.0",
            "_view_name": "StyleView",
            "bar_color": null,
            "description_width": ""
          }
        },
        "a6b5a79bb1484b0eb123dc4fad4736a9": {
          "model_module": "@jupyter-widgets/base",
          "model_name": "LayoutModel",
          "model_module_version": "1.2.0",
          "state": {
            "_model_module": "@jupyter-widgets/base",
            "_model_module_version": "1.2.0",
            "_model_name": "LayoutModel",
            "_view_count": null,
            "_view_module": "@jupyter-widgets/base",
            "_view_module_version": "1.2.0",
            "_view_name": "LayoutView",
            "align_content": null,
            "align_items": null,
            "align_self": null,
            "border": null,
            "bottom": null,
            "display": null,
            "flex": null,
            "flex_flow": null,
            "grid_area": null,
            "grid_auto_columns": null,
            "grid_auto_flow": null,
            "grid_auto_rows": null,
            "grid_column": null,
            "grid_gap": null,
            "grid_row": null,
            "grid_template_areas": null,
            "grid_template_columns": null,
            "grid_template_rows": null,
            "height": null,
            "justify_content": null,
            "justify_items": null,
            "left": null,
            "margin": null,
            "max_height": null,
            "max_width": null,
            "min_height": null,
            "min_width": null,
            "object_fit": null,
            "object_position": null,
            "order": null,
            "overflow": null,
            "overflow_x": null,
            "overflow_y": null,
            "padding": null,
            "right": null,
            "top": null,
            "visibility": null,
            "width": null
          }
        },
        "a77efacdc6cd4f379a15183aa910b4f3": {
          "model_module": "@jupyter-widgets/controls",
          "model_name": "DescriptionStyleModel",
          "model_module_version": "1.5.0",
          "state": {
            "_model_module": "@jupyter-widgets/controls",
            "_model_module_version": "1.5.0",
            "_model_name": "DescriptionStyleModel",
            "_view_count": null,
            "_view_module": "@jupyter-widgets/base",
            "_view_module_version": "1.2.0",
            "_view_name": "StyleView",
            "description_width": ""
          }
        },
        "73797854a2174d0cb019c8a84f5e8cea": {
          "model_module": "@jupyter-widgets/controls",
          "model_name": "HBoxModel",
          "model_module_version": "1.5.0",
          "state": {
            "_dom_classes": [],
            "_model_module": "@jupyter-widgets/controls",
            "_model_module_version": "1.5.0",
            "_model_name": "HBoxModel",
            "_view_count": null,
            "_view_module": "@jupyter-widgets/controls",
            "_view_module_version": "1.5.0",
            "_view_name": "HBoxView",
            "box_style": "",
            "children": [
              "IPY_MODEL_0db93ab0b95048a4a194283fb5eb9c2d",
              "IPY_MODEL_494416d3074b4f74bf0b842ca22eac18",
              "IPY_MODEL_5121e2ce66a64e2c943fc993ee75b437"
            ],
            "layout": "IPY_MODEL_e2d27b88aeff4b1bb3c42ffa0147be28"
          }
        },
        "0db93ab0b95048a4a194283fb5eb9c2d": {
          "model_module": "@jupyter-widgets/controls",
          "model_name": "HTMLModel",
          "model_module_version": "1.5.0",
          "state": {
            "_dom_classes": [],
            "_model_module": "@jupyter-widgets/controls",
            "_model_module_version": "1.5.0",
            "_model_name": "HTMLModel",
            "_view_count": null,
            "_view_module": "@jupyter-widgets/controls",
            "_view_module_version": "1.5.0",
            "_view_name": "HTMLView",
            "description": "",
            "description_tooltip": null,
            "layout": "IPY_MODEL_8df6ee139c7646cdb7e857dd49241928",
            "placeholder": "​",
            "style": "IPY_MODEL_300c1a8fbe894cb5bf17876f6ea0e127",
            "value": "tokenizer.json: 100%"
          }
        },
        "494416d3074b4f74bf0b842ca22eac18": {
          "model_module": "@jupyter-widgets/controls",
          "model_name": "FloatProgressModel",
          "model_module_version": "1.5.0",
          "state": {
            "_dom_classes": [],
            "_model_module": "@jupyter-widgets/controls",
            "_model_module_version": "1.5.0",
            "_model_name": "FloatProgressModel",
            "_view_count": null,
            "_view_module": "@jupyter-widgets/controls",
            "_view_module_version": "1.5.0",
            "_view_name": "ProgressView",
            "bar_style": "success",
            "description": "",
            "description_tooltip": null,
            "layout": "IPY_MODEL_486de64814d94ceaac8e6b3edfec5228",
            "max": 466062,
            "min": 0,
            "orientation": "horizontal",
            "style": "IPY_MODEL_a999cb1234fd4561b895d84cf8b0d029",
            "value": 466062
          }
        },
        "5121e2ce66a64e2c943fc993ee75b437": {
          "model_module": "@jupyter-widgets/controls",
          "model_name": "HTMLModel",
          "model_module_version": "1.5.0",
          "state": {
            "_dom_classes": [],
            "_model_module": "@jupyter-widgets/controls",
            "_model_module_version": "1.5.0",
            "_model_name": "HTMLModel",
            "_view_count": null,
            "_view_module": "@jupyter-widgets/controls",
            "_view_module_version": "1.5.0",
            "_view_name": "HTMLView",
            "description": "",
            "description_tooltip": null,
            "layout": "IPY_MODEL_63af2e253d744b178cd70d85800c0754",
            "placeholder": "​",
            "style": "IPY_MODEL_9bc5c24c68514930999e91b2fd128c27",
            "value": " 466k/466k [00:00&lt;00:00, 1.96MB/s]"
          }
        },
        "e2d27b88aeff4b1bb3c42ffa0147be28": {
          "model_module": "@jupyter-widgets/base",
          "model_name": "LayoutModel",
          "model_module_version": "1.2.0",
          "state": {
            "_model_module": "@jupyter-widgets/base",
            "_model_module_version": "1.2.0",
            "_model_name": "LayoutModel",
            "_view_count": null,
            "_view_module": "@jupyter-widgets/base",
            "_view_module_version": "1.2.0",
            "_view_name": "LayoutView",
            "align_content": null,
            "align_items": null,
            "align_self": null,
            "border": null,
            "bottom": null,
            "display": null,
            "flex": null,
            "flex_flow": null,
            "grid_area": null,
            "grid_auto_columns": null,
            "grid_auto_flow": null,
            "grid_auto_rows": null,
            "grid_column": null,
            "grid_gap": null,
            "grid_row": null,
            "grid_template_areas": null,
            "grid_template_columns": null,
            "grid_template_rows": null,
            "height": null,
            "justify_content": null,
            "justify_items": null,
            "left": null,
            "margin": null,
            "max_height": null,
            "max_width": null,
            "min_height": null,
            "min_width": null,
            "object_fit": null,
            "object_position": null,
            "order": null,
            "overflow": null,
            "overflow_x": null,
            "overflow_y": null,
            "padding": null,
            "right": null,
            "top": null,
            "visibility": null,
            "width": null
          }
        },
        "8df6ee139c7646cdb7e857dd49241928": {
          "model_module": "@jupyter-widgets/base",
          "model_name": "LayoutModel",
          "model_module_version": "1.2.0",
          "state": {
            "_model_module": "@jupyter-widgets/base",
            "_model_module_version": "1.2.0",
            "_model_name": "LayoutModel",
            "_view_count": null,
            "_view_module": "@jupyter-widgets/base",
            "_view_module_version": "1.2.0",
            "_view_name": "LayoutView",
            "align_content": null,
            "align_items": null,
            "align_self": null,
            "border": null,
            "bottom": null,
            "display": null,
            "flex": null,
            "flex_flow": null,
            "grid_area": null,
            "grid_auto_columns": null,
            "grid_auto_flow": null,
            "grid_auto_rows": null,
            "grid_column": null,
            "grid_gap": null,
            "grid_row": null,
            "grid_template_areas": null,
            "grid_template_columns": null,
            "grid_template_rows": null,
            "height": null,
            "justify_content": null,
            "justify_items": null,
            "left": null,
            "margin": null,
            "max_height": null,
            "max_width": null,
            "min_height": null,
            "min_width": null,
            "object_fit": null,
            "object_position": null,
            "order": null,
            "overflow": null,
            "overflow_x": null,
            "overflow_y": null,
            "padding": null,
            "right": null,
            "top": null,
            "visibility": null,
            "width": null
          }
        },
        "300c1a8fbe894cb5bf17876f6ea0e127": {
          "model_module": "@jupyter-widgets/controls",
          "model_name": "DescriptionStyleModel",
          "model_module_version": "1.5.0",
          "state": {
            "_model_module": "@jupyter-widgets/controls",
            "_model_module_version": "1.5.0",
            "_model_name": "DescriptionStyleModel",
            "_view_count": null,
            "_view_module": "@jupyter-widgets/base",
            "_view_module_version": "1.2.0",
            "_view_name": "StyleView",
            "description_width": ""
          }
        },
        "486de64814d94ceaac8e6b3edfec5228": {
          "model_module": "@jupyter-widgets/base",
          "model_name": "LayoutModel",
          "model_module_version": "1.2.0",
          "state": {
            "_model_module": "@jupyter-widgets/base",
            "_model_module_version": "1.2.0",
            "_model_name": "LayoutModel",
            "_view_count": null,
            "_view_module": "@jupyter-widgets/base",
            "_view_module_version": "1.2.0",
            "_view_name": "LayoutView",
            "align_content": null,
            "align_items": null,
            "align_self": null,
            "border": null,
            "bottom": null,
            "display": null,
            "flex": null,
            "flex_flow": null,
            "grid_area": null,
            "grid_auto_columns": null,
            "grid_auto_flow": null,
            "grid_auto_rows": null,
            "grid_column": null,
            "grid_gap": null,
            "grid_row": null,
            "grid_template_areas": null,
            "grid_template_columns": null,
            "grid_template_rows": null,
            "height": null,
            "justify_content": null,
            "justify_items": null,
            "left": null,
            "margin": null,
            "max_height": null,
            "max_width": null,
            "min_height": null,
            "min_width": null,
            "object_fit": null,
            "object_position": null,
            "order": null,
            "overflow": null,
            "overflow_x": null,
            "overflow_y": null,
            "padding": null,
            "right": null,
            "top": null,
            "visibility": null,
            "width": null
          }
        },
        "a999cb1234fd4561b895d84cf8b0d029": {
          "model_module": "@jupyter-widgets/controls",
          "model_name": "ProgressStyleModel",
          "model_module_version": "1.5.0",
          "state": {
            "_model_module": "@jupyter-widgets/controls",
            "_model_module_version": "1.5.0",
            "_model_name": "ProgressStyleModel",
            "_view_count": null,
            "_view_module": "@jupyter-widgets/base",
            "_view_module_version": "1.2.0",
            "_view_name": "StyleView",
            "bar_color": null,
            "description_width": ""
          }
        },
        "63af2e253d744b178cd70d85800c0754": {
          "model_module": "@jupyter-widgets/base",
          "model_name": "LayoutModel",
          "model_module_version": "1.2.0",
          "state": {
            "_model_module": "@jupyter-widgets/base",
            "_model_module_version": "1.2.0",
            "_model_name": "LayoutModel",
            "_view_count": null,
            "_view_module": "@jupyter-widgets/base",
            "_view_module_version": "1.2.0",
            "_view_name": "LayoutView",
            "align_content": null,
            "align_items": null,
            "align_self": null,
            "border": null,
            "bottom": null,
            "display": null,
            "flex": null,
            "flex_flow": null,
            "grid_area": null,
            "grid_auto_columns": null,
            "grid_auto_flow": null,
            "grid_auto_rows": null,
            "grid_column": null,
            "grid_gap": null,
            "grid_row": null,
            "grid_template_areas": null,
            "grid_template_columns": null,
            "grid_template_rows": null,
            "height": null,
            "justify_content": null,
            "justify_items": null,
            "left": null,
            "margin": null,
            "max_height": null,
            "max_width": null,
            "min_height": null,
            "min_width": null,
            "object_fit": null,
            "object_position": null,
            "order": null,
            "overflow": null,
            "overflow_x": null,
            "overflow_y": null,
            "padding": null,
            "right": null,
            "top": null,
            "visibility": null,
            "width": null
          }
        },
        "9bc5c24c68514930999e91b2fd128c27": {
          "model_module": "@jupyter-widgets/controls",
          "model_name": "DescriptionStyleModel",
          "model_module_version": "1.5.0",
          "state": {
            "_model_module": "@jupyter-widgets/controls",
            "_model_module_version": "1.5.0",
            "_model_name": "DescriptionStyleModel",
            "_view_count": null,
            "_view_module": "@jupyter-widgets/base",
            "_view_module_version": "1.2.0",
            "_view_name": "StyleView",
            "description_width": ""
          }
        },
        "be9b317a5b464bf3afe86e3adbe6bb79": {
          "model_module": "@jupyter-widgets/controls",
          "model_name": "HBoxModel",
          "model_module_version": "1.5.0",
          "state": {
            "_dom_classes": [],
            "_model_module": "@jupyter-widgets/controls",
            "_model_module_version": "1.5.0",
            "_model_name": "HBoxModel",
            "_view_count": null,
            "_view_module": "@jupyter-widgets/controls",
            "_view_module_version": "1.5.0",
            "_view_name": "HBoxView",
            "box_style": "",
            "children": [
              "IPY_MODEL_dad0cf09dac64e5fb6c7f00f2d1ff814",
              "IPY_MODEL_02b974ccd4a844f885e81fb505f1c758",
              "IPY_MODEL_e4ee8ebf1f7b4deeb0f4b28a9dae010a"
            ],
            "layout": "IPY_MODEL_9a22033a10904d22a14a59148f120958"
          }
        },
        "dad0cf09dac64e5fb6c7f00f2d1ff814": {
          "model_module": "@jupyter-widgets/controls",
          "model_name": "HTMLModel",
          "model_module_version": "1.5.0",
          "state": {
            "_dom_classes": [],
            "_model_module": "@jupyter-widgets/controls",
            "_model_module_version": "1.5.0",
            "_model_name": "HTMLModel",
            "_view_count": null,
            "_view_module": "@jupyter-widgets/controls",
            "_view_module_version": "1.5.0",
            "_view_name": "HTMLView",
            "description": "",
            "description_tooltip": null,
            "layout": "IPY_MODEL_6f5681ea0d43446e93ce608e24ecbdd9",
            "placeholder": "​",
            "style": "IPY_MODEL_0ee742c732554198a632fd027bc38d12",
            "value": "model.safetensors: 100%"
          }
        },
        "02b974ccd4a844f885e81fb505f1c758": {
          "model_module": "@jupyter-widgets/controls",
          "model_name": "FloatProgressModel",
          "model_module_version": "1.5.0",
          "state": {
            "_dom_classes": [],
            "_model_module": "@jupyter-widgets/controls",
            "_model_module_version": "1.5.0",
            "_model_name": "FloatProgressModel",
            "_view_count": null,
            "_view_module": "@jupyter-widgets/controls",
            "_view_module_version": "1.5.0",
            "_view_name": "ProgressView",
            "bar_style": "success",
            "description": "",
            "description_tooltip": null,
            "layout": "IPY_MODEL_80490fb8bf0f4218bb99993b9f7985f2",
            "max": 440449768,
            "min": 0,
            "orientation": "horizontal",
            "style": "IPY_MODEL_be5e4b1430714d9f85db8bc7e793c2dd",
            "value": 440449768
          }
        },
        "e4ee8ebf1f7b4deeb0f4b28a9dae010a": {
          "model_module": "@jupyter-widgets/controls",
          "model_name": "HTMLModel",
          "model_module_version": "1.5.0",
          "state": {
            "_dom_classes": [],
            "_model_module": "@jupyter-widgets/controls",
            "_model_module_version": "1.5.0",
            "_model_name": "HTMLModel",
            "_view_count": null,
            "_view_module": "@jupyter-widgets/controls",
            "_view_module_version": "1.5.0",
            "_view_name": "HTMLView",
            "description": "",
            "description_tooltip": null,
            "layout": "IPY_MODEL_a2879003256146a9af20c20708f99dbd",
            "placeholder": "​",
            "style": "IPY_MODEL_2c5e4e1146ac44c78857bcc0d3169b20",
            "value": " 440M/440M [00:02&lt;00:00, 150MB/s]"
          }
        },
        "9a22033a10904d22a14a59148f120958": {
          "model_module": "@jupyter-widgets/base",
          "model_name": "LayoutModel",
          "model_module_version": "1.2.0",
          "state": {
            "_model_module": "@jupyter-widgets/base",
            "_model_module_version": "1.2.0",
            "_model_name": "LayoutModel",
            "_view_count": null,
            "_view_module": "@jupyter-widgets/base",
            "_view_module_version": "1.2.0",
            "_view_name": "LayoutView",
            "align_content": null,
            "align_items": null,
            "align_self": null,
            "border": null,
            "bottom": null,
            "display": null,
            "flex": null,
            "flex_flow": null,
            "grid_area": null,
            "grid_auto_columns": null,
            "grid_auto_flow": null,
            "grid_auto_rows": null,
            "grid_column": null,
            "grid_gap": null,
            "grid_row": null,
            "grid_template_areas": null,
            "grid_template_columns": null,
            "grid_template_rows": null,
            "height": null,
            "justify_content": null,
            "justify_items": null,
            "left": null,
            "margin": null,
            "max_height": null,
            "max_width": null,
            "min_height": null,
            "min_width": null,
            "object_fit": null,
            "object_position": null,
            "order": null,
            "overflow": null,
            "overflow_x": null,
            "overflow_y": null,
            "padding": null,
            "right": null,
            "top": null,
            "visibility": null,
            "width": null
          }
        },
        "6f5681ea0d43446e93ce608e24ecbdd9": {
          "model_module": "@jupyter-widgets/base",
          "model_name": "LayoutModel",
          "model_module_version": "1.2.0",
          "state": {
            "_model_module": "@jupyter-widgets/base",
            "_model_module_version": "1.2.0",
            "_model_name": "LayoutModel",
            "_view_count": null,
            "_view_module": "@jupyter-widgets/base",
            "_view_module_version": "1.2.0",
            "_view_name": "LayoutView",
            "align_content": null,
            "align_items": null,
            "align_self": null,
            "border": null,
            "bottom": null,
            "display": null,
            "flex": null,
            "flex_flow": null,
            "grid_area": null,
            "grid_auto_columns": null,
            "grid_auto_flow": null,
            "grid_auto_rows": null,
            "grid_column": null,
            "grid_gap": null,
            "grid_row": null,
            "grid_template_areas": null,
            "grid_template_columns": null,
            "grid_template_rows": null,
            "height": null,
            "justify_content": null,
            "justify_items": null,
            "left": null,
            "margin": null,
            "max_height": null,
            "max_width": null,
            "min_height": null,
            "min_width": null,
            "object_fit": null,
            "object_position": null,
            "order": null,
            "overflow": null,
            "overflow_x": null,
            "overflow_y": null,
            "padding": null,
            "right": null,
            "top": null,
            "visibility": null,
            "width": null
          }
        },
        "0ee742c732554198a632fd027bc38d12": {
          "model_module": "@jupyter-widgets/controls",
          "model_name": "DescriptionStyleModel",
          "model_module_version": "1.5.0",
          "state": {
            "_model_module": "@jupyter-widgets/controls",
            "_model_module_version": "1.5.0",
            "_model_name": "DescriptionStyleModel",
            "_view_count": null,
            "_view_module": "@jupyter-widgets/base",
            "_view_module_version": "1.2.0",
            "_view_name": "StyleView",
            "description_width": ""
          }
        },
        "80490fb8bf0f4218bb99993b9f7985f2": {
          "model_module": "@jupyter-widgets/base",
          "model_name": "LayoutModel",
          "model_module_version": "1.2.0",
          "state": {
            "_model_module": "@jupyter-widgets/base",
            "_model_module_version": "1.2.0",
            "_model_name": "LayoutModel",
            "_view_count": null,
            "_view_module": "@jupyter-widgets/base",
            "_view_module_version": "1.2.0",
            "_view_name": "LayoutView",
            "align_content": null,
            "align_items": null,
            "align_self": null,
            "border": null,
            "bottom": null,
            "display": null,
            "flex": null,
            "flex_flow": null,
            "grid_area": null,
            "grid_auto_columns": null,
            "grid_auto_flow": null,
            "grid_auto_rows": null,
            "grid_column": null,
            "grid_gap": null,
            "grid_row": null,
            "grid_template_areas": null,
            "grid_template_columns": null,
            "grid_template_rows": null,
            "height": null,
            "justify_content": null,
            "justify_items": null,
            "left": null,
            "margin": null,
            "max_height": null,
            "max_width": null,
            "min_height": null,
            "min_width": null,
            "object_fit": null,
            "object_position": null,
            "order": null,
            "overflow": null,
            "overflow_x": null,
            "overflow_y": null,
            "padding": null,
            "right": null,
            "top": null,
            "visibility": null,
            "width": null
          }
        },
        "be5e4b1430714d9f85db8bc7e793c2dd": {
          "model_module": "@jupyter-widgets/controls",
          "model_name": "ProgressStyleModel",
          "model_module_version": "1.5.0",
          "state": {
            "_model_module": "@jupyter-widgets/controls",
            "_model_module_version": "1.5.0",
            "_model_name": "ProgressStyleModel",
            "_view_count": null,
            "_view_module": "@jupyter-widgets/base",
            "_view_module_version": "1.2.0",
            "_view_name": "StyleView",
            "bar_color": null,
            "description_width": ""
          }
        },
        "a2879003256146a9af20c20708f99dbd": {
          "model_module": "@jupyter-widgets/base",
          "model_name": "LayoutModel",
          "model_module_version": "1.2.0",
          "state": {
            "_model_module": "@jupyter-widgets/base",
            "_model_module_version": "1.2.0",
            "_model_name": "LayoutModel",
            "_view_count": null,
            "_view_module": "@jupyter-widgets/base",
            "_view_module_version": "1.2.0",
            "_view_name": "LayoutView",
            "align_content": null,
            "align_items": null,
            "align_self": null,
            "border": null,
            "bottom": null,
            "display": null,
            "flex": null,
            "flex_flow": null,
            "grid_area": null,
            "grid_auto_columns": null,
            "grid_auto_flow": null,
            "grid_auto_rows": null,
            "grid_column": null,
            "grid_gap": null,
            "grid_row": null,
            "grid_template_areas": null,
            "grid_template_columns": null,
            "grid_template_rows": null,
            "height": null,
            "justify_content": null,
            "justify_items": null,
            "left": null,
            "margin": null,
            "max_height": null,
            "max_width": null,
            "min_height": null,
            "min_width": null,
            "object_fit": null,
            "object_position": null,
            "order": null,
            "overflow": null,
            "overflow_x": null,
            "overflow_y": null,
            "padding": null,
            "right": null,
            "top": null,
            "visibility": null,
            "width": null
          }
        },
        "2c5e4e1146ac44c78857bcc0d3169b20": {
          "model_module": "@jupyter-widgets/controls",
          "model_name": "DescriptionStyleModel",
          "model_module_version": "1.5.0",
          "state": {
            "_model_module": "@jupyter-widgets/controls",
            "_model_module_version": "1.5.0",
            "_model_name": "DescriptionStyleModel",
            "_view_count": null,
            "_view_module": "@jupyter-widgets/base",
            "_view_module_version": "1.2.0",
            "_view_name": "StyleView",
            "description_width": ""
          }
        },
        "e6e9abed15114b4e9c6539ac2d099d67": {
          "model_module": "@jupyter-widgets/controls",
          "model_name": "HBoxModel",
          "model_module_version": "1.5.0",
          "state": {
            "_dom_classes": [],
            "_model_module": "@jupyter-widgets/controls",
            "_model_module_version": "1.5.0",
            "_model_name": "HBoxModel",
            "_view_count": null,
            "_view_module": "@jupyter-widgets/controls",
            "_view_module_version": "1.5.0",
            "_view_name": "HBoxView",
            "box_style": "",
            "children": [
              "IPY_MODEL_f614f5fad74d4376b0d451056f428248",
              "IPY_MODEL_673964ec38e5440e98078adfbb77a82d",
              "IPY_MODEL_34bb6fee5e474d368016080f53a49c1b"
            ],
            "layout": "IPY_MODEL_cc2ac704afbb4abfbb23c671a7ef913b"
          }
        },
        "f614f5fad74d4376b0d451056f428248": {
          "model_module": "@jupyter-widgets/controls",
          "model_name": "HTMLModel",
          "model_module_version": "1.5.0",
          "state": {
            "_dom_classes": [],
            "_model_module": "@jupyter-widgets/controls",
            "_model_module_version": "1.5.0",
            "_model_name": "HTMLModel",
            "_view_count": null,
            "_view_module": "@jupyter-widgets/controls",
            "_view_module_version": "1.5.0",
            "_view_name": "HTMLView",
            "description": "",
            "description_tooltip": null,
            "layout": "IPY_MODEL_b966fd69544747918b535aadb3796550",
            "placeholder": "​",
            "style": "IPY_MODEL_8348e67962b34825bb565a64c39877e4",
            "value": "Downloading builder script: 100%"
          }
        },
        "673964ec38e5440e98078adfbb77a82d": {
          "model_module": "@jupyter-widgets/controls",
          "model_name": "FloatProgressModel",
          "model_module_version": "1.5.0",
          "state": {
            "_dom_classes": [],
            "_model_module": "@jupyter-widgets/controls",
            "_model_module_version": "1.5.0",
            "_model_name": "FloatProgressModel",
            "_view_count": null,
            "_view_module": "@jupyter-widgets/controls",
            "_view_module_version": "1.5.0",
            "_view_name": "ProgressView",
            "bar_style": "success",
            "description": "",
            "description_tooltip": null,
            "layout": "IPY_MODEL_0d19e8a423c44d1aac91ee885b084010",
            "max": 4203,
            "min": 0,
            "orientation": "horizontal",
            "style": "IPY_MODEL_4a76e962ec3e4b09aeff65030a724599",
            "value": 4203
          }
        },
        "34bb6fee5e474d368016080f53a49c1b": {
          "model_module": "@jupyter-widgets/controls",
          "model_name": "HTMLModel",
          "model_module_version": "1.5.0",
          "state": {
            "_dom_classes": [],
            "_model_module": "@jupyter-widgets/controls",
            "_model_module_version": "1.5.0",
            "_model_name": "HTMLModel",
            "_view_count": null,
            "_view_module": "@jupyter-widgets/controls",
            "_view_module_version": "1.5.0",
            "_view_name": "HTMLView",
            "description": "",
            "description_tooltip": null,
            "layout": "IPY_MODEL_4ca0cfb20f6449c39a5ad7d85bc1e49a",
            "placeholder": "​",
            "style": "IPY_MODEL_64666e85698c4a748808cc578009507c",
            "value": " 4.20k/4.20k [00:00&lt;00:00, 83.8kB/s]"
          }
        },
        "cc2ac704afbb4abfbb23c671a7ef913b": {
          "model_module": "@jupyter-widgets/base",
          "model_name": "LayoutModel",
          "model_module_version": "1.2.0",
          "state": {
            "_model_module": "@jupyter-widgets/base",
            "_model_module_version": "1.2.0",
            "_model_name": "LayoutModel",
            "_view_count": null,
            "_view_module": "@jupyter-widgets/base",
            "_view_module_version": "1.2.0",
            "_view_name": "LayoutView",
            "align_content": null,
            "align_items": null,
            "align_self": null,
            "border": null,
            "bottom": null,
            "display": null,
            "flex": null,
            "flex_flow": null,
            "grid_area": null,
            "grid_auto_columns": null,
            "grid_auto_flow": null,
            "grid_auto_rows": null,
            "grid_column": null,
            "grid_gap": null,
            "grid_row": null,
            "grid_template_areas": null,
            "grid_template_columns": null,
            "grid_template_rows": null,
            "height": null,
            "justify_content": null,
            "justify_items": null,
            "left": null,
            "margin": null,
            "max_height": null,
            "max_width": null,
            "min_height": null,
            "min_width": null,
            "object_fit": null,
            "object_position": null,
            "order": null,
            "overflow": null,
            "overflow_x": null,
            "overflow_y": null,
            "padding": null,
            "right": null,
            "top": null,
            "visibility": null,
            "width": null
          }
        },
        "b966fd69544747918b535aadb3796550": {
          "model_module": "@jupyter-widgets/base",
          "model_name": "LayoutModel",
          "model_module_version": "1.2.0",
          "state": {
            "_model_module": "@jupyter-widgets/base",
            "_model_module_version": "1.2.0",
            "_model_name": "LayoutModel",
            "_view_count": null,
            "_view_module": "@jupyter-widgets/base",
            "_view_module_version": "1.2.0",
            "_view_name": "LayoutView",
            "align_content": null,
            "align_items": null,
            "align_self": null,
            "border": null,
            "bottom": null,
            "display": null,
            "flex": null,
            "flex_flow": null,
            "grid_area": null,
            "grid_auto_columns": null,
            "grid_auto_flow": null,
            "grid_auto_rows": null,
            "grid_column": null,
            "grid_gap": null,
            "grid_row": null,
            "grid_template_areas": null,
            "grid_template_columns": null,
            "grid_template_rows": null,
            "height": null,
            "justify_content": null,
            "justify_items": null,
            "left": null,
            "margin": null,
            "max_height": null,
            "max_width": null,
            "min_height": null,
            "min_width": null,
            "object_fit": null,
            "object_position": null,
            "order": null,
            "overflow": null,
            "overflow_x": null,
            "overflow_y": null,
            "padding": null,
            "right": null,
            "top": null,
            "visibility": null,
            "width": null
          }
        },
        "8348e67962b34825bb565a64c39877e4": {
          "model_module": "@jupyter-widgets/controls",
          "model_name": "DescriptionStyleModel",
          "model_module_version": "1.5.0",
          "state": {
            "_model_module": "@jupyter-widgets/controls",
            "_model_module_version": "1.5.0",
            "_model_name": "DescriptionStyleModel",
            "_view_count": null,
            "_view_module": "@jupyter-widgets/base",
            "_view_module_version": "1.2.0",
            "_view_name": "StyleView",
            "description_width": ""
          }
        },
        "0d19e8a423c44d1aac91ee885b084010": {
          "model_module": "@jupyter-widgets/base",
          "model_name": "LayoutModel",
          "model_module_version": "1.2.0",
          "state": {
            "_model_module": "@jupyter-widgets/base",
            "_model_module_version": "1.2.0",
            "_model_name": "LayoutModel",
            "_view_count": null,
            "_view_module": "@jupyter-widgets/base",
            "_view_module_version": "1.2.0",
            "_view_name": "LayoutView",
            "align_content": null,
            "align_items": null,
            "align_self": null,
            "border": null,
            "bottom": null,
            "display": null,
            "flex": null,
            "flex_flow": null,
            "grid_area": null,
            "grid_auto_columns": null,
            "grid_auto_flow": null,
            "grid_auto_rows": null,
            "grid_column": null,
            "grid_gap": null,
            "grid_row": null,
            "grid_template_areas": null,
            "grid_template_columns": null,
            "grid_template_rows": null,
            "height": null,
            "justify_content": null,
            "justify_items": null,
            "left": null,
            "margin": null,
            "max_height": null,
            "max_width": null,
            "min_height": null,
            "min_width": null,
            "object_fit": null,
            "object_position": null,
            "order": null,
            "overflow": null,
            "overflow_x": null,
            "overflow_y": null,
            "padding": null,
            "right": null,
            "top": null,
            "visibility": null,
            "width": null
          }
        },
        "4a76e962ec3e4b09aeff65030a724599": {
          "model_module": "@jupyter-widgets/controls",
          "model_name": "ProgressStyleModel",
          "model_module_version": "1.5.0",
          "state": {
            "_model_module": "@jupyter-widgets/controls",
            "_model_module_version": "1.5.0",
            "_model_name": "ProgressStyleModel",
            "_view_count": null,
            "_view_module": "@jupyter-widgets/base",
            "_view_module_version": "1.2.0",
            "_view_name": "StyleView",
            "bar_color": null,
            "description_width": ""
          }
        },
        "4ca0cfb20f6449c39a5ad7d85bc1e49a": {
          "model_module": "@jupyter-widgets/base",
          "model_name": "LayoutModel",
          "model_module_version": "1.2.0",
          "state": {
            "_model_module": "@jupyter-widgets/base",
            "_model_module_version": "1.2.0",
            "_model_name": "LayoutModel",
            "_view_count": null,
            "_view_module": "@jupyter-widgets/base",
            "_view_module_version": "1.2.0",
            "_view_name": "LayoutView",
            "align_content": null,
            "align_items": null,
            "align_self": null,
            "border": null,
            "bottom": null,
            "display": null,
            "flex": null,
            "flex_flow": null,
            "grid_area": null,
            "grid_auto_columns": null,
            "grid_auto_flow": null,
            "grid_auto_rows": null,
            "grid_column": null,
            "grid_gap": null,
            "grid_row": null,
            "grid_template_areas": null,
            "grid_template_columns": null,
            "grid_template_rows": null,
            "height": null,
            "justify_content": null,
            "justify_items": null,
            "left": null,
            "margin": null,
            "max_height": null,
            "max_width": null,
            "min_height": null,
            "min_width": null,
            "object_fit": null,
            "object_position": null,
            "order": null,
            "overflow": null,
            "overflow_x": null,
            "overflow_y": null,
            "padding": null,
            "right": null,
            "top": null,
            "visibility": null,
            "width": null
          }
        },
        "64666e85698c4a748808cc578009507c": {
          "model_module": "@jupyter-widgets/controls",
          "model_name": "DescriptionStyleModel",
          "model_module_version": "1.5.0",
          "state": {
            "_model_module": "@jupyter-widgets/controls",
            "_model_module_version": "1.5.0",
            "_model_name": "DescriptionStyleModel",
            "_view_count": null,
            "_view_module": "@jupyter-widgets/base",
            "_view_module_version": "1.2.0",
            "_view_name": "StyleView",
            "description_width": ""
          }
        },
        "ffe40ce5b8e647ae943e7e1a424a6a24": {
          "model_module": "@jupyter-widgets/controls",
          "model_name": "HBoxModel",
          "model_module_version": "1.5.0",
          "state": {
            "_dom_classes": [],
            "_model_module": "@jupyter-widgets/controls",
            "_model_module_version": "1.5.0",
            "_model_name": "HBoxModel",
            "_view_count": null,
            "_view_module": "@jupyter-widgets/controls",
            "_view_module_version": "1.5.0",
            "_view_name": "HBoxView",
            "box_style": "",
            "children": [
              "IPY_MODEL_866936ad13b64ed689feb2cfc236e587",
              "IPY_MODEL_4f30f4135a8d4eadaf2e534f14698342",
              "IPY_MODEL_fbabfa32a8c3490fa17b837de96c1549"
            ],
            "layout": "IPY_MODEL_5221837e00a54e46b41b2254f1f72b7e"
          }
        },
        "866936ad13b64ed689feb2cfc236e587": {
          "model_module": "@jupyter-widgets/controls",
          "model_name": "HTMLModel",
          "model_module_version": "1.5.0",
          "state": {
            "_dom_classes": [],
            "_model_module": "@jupyter-widgets/controls",
            "_model_module_version": "1.5.0",
            "_model_name": "HTMLModel",
            "_view_count": null,
            "_view_module": "@jupyter-widgets/controls",
            "_view_module_version": "1.5.0",
            "_view_name": "HTMLView",
            "description": "",
            "description_tooltip": null,
            "layout": "IPY_MODEL_6a5cc695f7d64af9b4178cd33a80d048",
            "placeholder": "​",
            "style": "IPY_MODEL_698c80fc169143a5b73d68e583a61373",
            "value": "Downloading builder script: 100%"
          }
        },
        "4f30f4135a8d4eadaf2e534f14698342": {
          "model_module": "@jupyter-widgets/controls",
          "model_name": "FloatProgressModel",
          "model_module_version": "1.5.0",
          "state": {
            "_dom_classes": [],
            "_model_module": "@jupyter-widgets/controls",
            "_model_module_version": "1.5.0",
            "_model_name": "FloatProgressModel",
            "_view_count": null,
            "_view_module": "@jupyter-widgets/controls",
            "_view_module_version": "1.5.0",
            "_view_name": "ProgressView",
            "bar_style": "success",
            "description": "",
            "description_tooltip": null,
            "layout": "IPY_MODEL_f3a97e0bd6de48eeb39c17d028639577",
            "max": 6771,
            "min": 0,
            "orientation": "horizontal",
            "style": "IPY_MODEL_6facaee9539d4493b63e03da5329a18b",
            "value": 6771
          }
        },
        "fbabfa32a8c3490fa17b837de96c1549": {
          "model_module": "@jupyter-widgets/controls",
          "model_name": "HTMLModel",
          "model_module_version": "1.5.0",
          "state": {
            "_dom_classes": [],
            "_model_module": "@jupyter-widgets/controls",
            "_model_module_version": "1.5.0",
            "_model_name": "HTMLModel",
            "_view_count": null,
            "_view_module": "@jupyter-widgets/controls",
            "_view_module_version": "1.5.0",
            "_view_name": "HTMLView",
            "description": "",
            "description_tooltip": null,
            "layout": "IPY_MODEL_687db1122e8f4217a5a4aa529be6ac83",
            "placeholder": "​",
            "style": "IPY_MODEL_60f3b6441f4a49a689530e06eef38091",
            "value": " 6.77k/6.77k [00:00&lt;00:00, 196kB/s]"
          }
        },
        "5221837e00a54e46b41b2254f1f72b7e": {
          "model_module": "@jupyter-widgets/base",
          "model_name": "LayoutModel",
          "model_module_version": "1.2.0",
          "state": {
            "_model_module": "@jupyter-widgets/base",
            "_model_module_version": "1.2.0",
            "_model_name": "LayoutModel",
            "_view_count": null,
            "_view_module": "@jupyter-widgets/base",
            "_view_module_version": "1.2.0",
            "_view_name": "LayoutView",
            "align_content": null,
            "align_items": null,
            "align_self": null,
            "border": null,
            "bottom": null,
            "display": null,
            "flex": null,
            "flex_flow": null,
            "grid_area": null,
            "grid_auto_columns": null,
            "grid_auto_flow": null,
            "grid_auto_rows": null,
            "grid_column": null,
            "grid_gap": null,
            "grid_row": null,
            "grid_template_areas": null,
            "grid_template_columns": null,
            "grid_template_rows": null,
            "height": null,
            "justify_content": null,
            "justify_items": null,
            "left": null,
            "margin": null,
            "max_height": null,
            "max_width": null,
            "min_height": null,
            "min_width": null,
            "object_fit": null,
            "object_position": null,
            "order": null,
            "overflow": null,
            "overflow_x": null,
            "overflow_y": null,
            "padding": null,
            "right": null,
            "top": null,
            "visibility": null,
            "width": null
          }
        },
        "6a5cc695f7d64af9b4178cd33a80d048": {
          "model_module": "@jupyter-widgets/base",
          "model_name": "LayoutModel",
          "model_module_version": "1.2.0",
          "state": {
            "_model_module": "@jupyter-widgets/base",
            "_model_module_version": "1.2.0",
            "_model_name": "LayoutModel",
            "_view_count": null,
            "_view_module": "@jupyter-widgets/base",
            "_view_module_version": "1.2.0",
            "_view_name": "LayoutView",
            "align_content": null,
            "align_items": null,
            "align_self": null,
            "border": null,
            "bottom": null,
            "display": null,
            "flex": null,
            "flex_flow": null,
            "grid_area": null,
            "grid_auto_columns": null,
            "grid_auto_flow": null,
            "grid_auto_rows": null,
            "grid_column": null,
            "grid_gap": null,
            "grid_row": null,
            "grid_template_areas": null,
            "grid_template_columns": null,
            "grid_template_rows": null,
            "height": null,
            "justify_content": null,
            "justify_items": null,
            "left": null,
            "margin": null,
            "max_height": null,
            "max_width": null,
            "min_height": null,
            "min_width": null,
            "object_fit": null,
            "object_position": null,
            "order": null,
            "overflow": null,
            "overflow_x": null,
            "overflow_y": null,
            "padding": null,
            "right": null,
            "top": null,
            "visibility": null,
            "width": null
          }
        },
        "698c80fc169143a5b73d68e583a61373": {
          "model_module": "@jupyter-widgets/controls",
          "model_name": "DescriptionStyleModel",
          "model_module_version": "1.5.0",
          "state": {
            "_model_module": "@jupyter-widgets/controls",
            "_model_module_version": "1.5.0",
            "_model_name": "DescriptionStyleModel",
            "_view_count": null,
            "_view_module": "@jupyter-widgets/base",
            "_view_module_version": "1.2.0",
            "_view_name": "StyleView",
            "description_width": ""
          }
        },
        "f3a97e0bd6de48eeb39c17d028639577": {
          "model_module": "@jupyter-widgets/base",
          "model_name": "LayoutModel",
          "model_module_version": "1.2.0",
          "state": {
            "_model_module": "@jupyter-widgets/base",
            "_model_module_version": "1.2.0",
            "_model_name": "LayoutModel",
            "_view_count": null,
            "_view_module": "@jupyter-widgets/base",
            "_view_module_version": "1.2.0",
            "_view_name": "LayoutView",
            "align_content": null,
            "align_items": null,
            "align_self": null,
            "border": null,
            "bottom": null,
            "display": null,
            "flex": null,
            "flex_flow": null,
            "grid_area": null,
            "grid_auto_columns": null,
            "grid_auto_flow": null,
            "grid_auto_rows": null,
            "grid_column": null,
            "grid_gap": null,
            "grid_row": null,
            "grid_template_areas": null,
            "grid_template_columns": null,
            "grid_template_rows": null,
            "height": null,
            "justify_content": null,
            "justify_items": null,
            "left": null,
            "margin": null,
            "max_height": null,
            "max_width": null,
            "min_height": null,
            "min_width": null,
            "object_fit": null,
            "object_position": null,
            "order": null,
            "overflow": null,
            "overflow_x": null,
            "overflow_y": null,
            "padding": null,
            "right": null,
            "top": null,
            "visibility": null,
            "width": null
          }
        },
        "6facaee9539d4493b63e03da5329a18b": {
          "model_module": "@jupyter-widgets/controls",
          "model_name": "ProgressStyleModel",
          "model_module_version": "1.5.0",
          "state": {
            "_model_module": "@jupyter-widgets/controls",
            "_model_module_version": "1.5.0",
            "_model_name": "ProgressStyleModel",
            "_view_count": null,
            "_view_module": "@jupyter-widgets/base",
            "_view_module_version": "1.2.0",
            "_view_name": "StyleView",
            "bar_color": null,
            "description_width": ""
          }
        },
        "687db1122e8f4217a5a4aa529be6ac83": {
          "model_module": "@jupyter-widgets/base",
          "model_name": "LayoutModel",
          "model_module_version": "1.2.0",
          "state": {
            "_model_module": "@jupyter-widgets/base",
            "_model_module_version": "1.2.0",
            "_model_name": "LayoutModel",
            "_view_count": null,
            "_view_module": "@jupyter-widgets/base",
            "_view_module_version": "1.2.0",
            "_view_name": "LayoutView",
            "align_content": null,
            "align_items": null,
            "align_self": null,
            "border": null,
            "bottom": null,
            "display": null,
            "flex": null,
            "flex_flow": null,
            "grid_area": null,
            "grid_auto_columns": null,
            "grid_auto_flow": null,
            "grid_auto_rows": null,
            "grid_column": null,
            "grid_gap": null,
            "grid_row": null,
            "grid_template_areas": null,
            "grid_template_columns": null,
            "grid_template_rows": null,
            "height": null,
            "justify_content": null,
            "justify_items": null,
            "left": null,
            "margin": null,
            "max_height": null,
            "max_width": null,
            "min_height": null,
            "min_width": null,
            "object_fit": null,
            "object_position": null,
            "order": null,
            "overflow": null,
            "overflow_x": null,
            "overflow_y": null,
            "padding": null,
            "right": null,
            "top": null,
            "visibility": null,
            "width": null
          }
        },
        "60f3b6441f4a49a689530e06eef38091": {
          "model_module": "@jupyter-widgets/controls",
          "model_name": "DescriptionStyleModel",
          "model_module_version": "1.5.0",
          "state": {
            "_model_module": "@jupyter-widgets/controls",
            "_model_module_version": "1.5.0",
            "_model_name": "DescriptionStyleModel",
            "_view_count": null,
            "_view_module": "@jupyter-widgets/base",
            "_view_module_version": "1.2.0",
            "_view_name": "StyleView",
            "description_width": ""
          }
        }
      }
    }
  },
  "nbformat": 4,
  "nbformat_minor": 0
}